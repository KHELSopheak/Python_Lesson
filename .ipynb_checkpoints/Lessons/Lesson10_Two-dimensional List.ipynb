{
 "cells": [
  {
   "cell_type": "markdown",
   "id": "eddcc24c",
   "metadata": {},
   "source": [
    "### create two-dimensional list"
   ]
  },
  {
   "cell_type": "code",
   "execution_count": 63,
   "id": "4583fa4d",
   "metadata": {},
   "outputs": [
    {
     "name": "stdout",
     "output_type": "stream",
     "text": [
      "[1, 2, 3]\n",
      "[4, 5, 6]\n",
      "[7, 8, 9]\n",
      "\n",
      "[1, 2, 3]\n",
      "5\n",
      "\n",
      "[[333, 333], [333, 333], [333, 333]]\n",
      "\n",
      "[[0, 0, 0], [0, 0, 0], [0, 0, 0], [0, 0, 0], [0, 0, 0]]\n",
      "[[12, 12], [12, 12], [12, 12]]\n"
     ]
    }
   ],
   "source": [
    "list_array = [[1, 2, 3],\n",
    "              [4, 5, 6],\n",
    "              [7, 8, 9]]\n",
    "for item in list_array :\n",
    "    print(item)\n",
    "print()\n",
    "print(list_array[0])\n",
    "print(list_array[1][1])\n",
    "print()\n",
    "\n",
    "##\n",
    "list1 = []\n",
    "for i in range(3) :\n",
    "    line = []\n",
    "    for j in range(2) :\n",
    "        line.append(333)\n",
    "    list1.append(line)\n",
    "print(list1)\n",
    "print()\n",
    "### \n",
    "list_array = [[0] * 3 for i in range(5)]\n",
    "print(list_array)\n",
    "\n",
    "list_array2 = [[12 for j in range(2)] for i in range(3)]\n",
    "print(list_array2)\n"
   ]
  },
  {
   "cell_type": "code",
   "execution_count": 80,
   "id": "96efa081",
   "metadata": {},
   "outputs": [
    {
     "name": "stdout",
     "output_type": "stream",
     "text": [
      "1 2 3\n",
      "4 5 6\n",
      "7 8 9\n",
      "\n",
      "10 11 12 \n",
      "13 14 15 \n",
      "16 17 18 \n"
     ]
    }
   ],
   "source": [
    "list_array = [[1, 2, 3], [4, 5, 6], [7, 8, 9]]\n",
    "for i, j, k in list_array :\n",
    "    print(i, j, k)\n",
    "print()\n",
    "list_array2 = [[10, 11, 12], [13, 14, 15], [16, 17, 18]]\n",
    "for i1 in list_array2 :\n",
    "    for i3 in i1 :\n",
    "        print(i3, end = ' ')\n",
    "    print()"
   ]
  },
  {
   "cell_type": "code",
   "execution_count": 85,
   "id": "7f820bf5",
   "metadata": {},
   "outputs": [
    {
     "name": "stdout",
     "output_type": "stream",
     "text": [
      "1  2  3  \n",
      "4  5  6  \n",
      "7  8  9  \n"
     ]
    }
   ],
   "source": [
    "# output using index\n",
    "list_array = [[1, 2, 3], [4, 5, 6], [7, 8, 9]]\n",
    "for i in range(len(list_array)) :\n",
    "    for j in range(len(list_array[i])) :\n",
    "        print(list_array[i][j], '', end = ' ')\n",
    "    print()"
   ]
  },
  {
   "cell_type": "code",
   "execution_count": 101,
   "id": "d554b447",
   "metadata": {},
   "outputs": [
    {
     "name": "stdout",
     "output_type": "stream",
     "text": [
      "1  2  3  4  5  6  7  8  9  "
     ]
    }
   ],
   "source": [
    "list_array = [[1, 2, 3], [4, 5, 6], [7, 8, 9]]\n",
    "for i in range(len(list_array)) :\n",
    "    for j in range(len(list_array[i])) :\n",
    "        print(list_array[i][j], '', end = ' ')"
   ]
  },
  {
   "cell_type": "code",
   "execution_count": 22,
   "id": "e61b5c1f",
   "metadata": {},
   "outputs": [
    {
     "name": "stdout",
     "output_type": "stream",
     "text": [
      "10 11 12\n",
      "13 14 15\n",
      "16 17 18\n"
     ]
    }
   ],
   "source": [
    "# using while statement\n",
    "\n",
    "list_array2 = [[10, 11, 12], [13, 14, 15], [16, 17, 18]]\n",
    "i = 0\n",
    "while i < len(list_array2) :\n",
    "    a, b, c = list_array2[i]\n",
    "    i += 1\n",
    "    print(a, b, c)"
   ]
  },
  {
   "cell_type": "code",
   "execution_count": 10,
   "id": "886bf94b",
   "metadata": {},
   "outputs": [
    {
     "name": "stdout",
     "output_type": "stream",
     "text": [
      "[[1, 2, 3], [4, 5, 6], [7, 8, 9]]\n",
      "False\n"
     ]
    }
   ],
   "source": [
    "# reference\n",
    "import copy\n",
    "list_array = [[1, 2, 3], [4, 5, 6], [7, 8, 9]]\n",
    "list1 = copy.deepcopy(list_array)\n",
    "list1[0][0] = 90\n",
    "print(list_array)\n",
    "print(list_array is list1)"
   ]
  },
  {
   "cell_type": "code",
   "execution_count": 31,
   "id": "39f19356",
   "metadata": {},
   "outputs": [
    {
     "name": "stdout",
     "output_type": "stream",
     "text": [
      "[[0], [0, 1], [0, 1, 2], [0, 1, 2, 3], [0, 1, 2, 3, 4]]\n",
      "\n",
      "[[0], [0, 1], [0, 1, 2], [0, 1, 2, 3], [0, 1, 2, 3, 4]]\n",
      "\n",
      "0 \n",
      "0 1 \n",
      "0 1 2 \n",
      "0 1 2 3 \n",
      "0 1 2 3 4 \n",
      "\n",
      "91 \n",
      "100 31 \n",
      "36 63 47 \n",
      "30 4 27 84 \n",
      "81 27 88 92 7 \n",
      "\n",
      "[[10, 98], [20, 20], [30, 30, 30], [40, 40, 40, 40], [50, 50, 50, 50, 50], 99]\n"
     ]
    }
   ],
   "source": [
    "# Jagged list\n",
    "\n",
    "jlist = [[0],\n",
    "         [0, 1],\n",
    "         [0, 1, 2],\n",
    "         [0, 1, 2, 3],\n",
    "         [0, 1, 2, 3, 4]]\n",
    "print(jlist)\n",
    "print()\n",
    "\n",
    "list1 = [1, 2, 3, 4, 5]\n",
    "list2 = []\n",
    "for i in list1 :\n",
    "    line = []\n",
    "    for j in range(i):\n",
    "        line.append(j)\n",
    "    list2.append(line)\n",
    "print(list2)\n",
    "print()\n",
    "\n",
    "list3 = [1, 2, 3, 4, 5]\n",
    "list4 = []\n",
    "for i in list3 :\n",
    "    lines = []\n",
    "    for j in range(i):\n",
    "        lines.append(j)\n",
    "        print(j, end = ' ')\n",
    "    list4.append(lines)\n",
    "    print()\n",
    "print()\n",
    "\n",
    "# using nested loop\n",
    "\n",
    "import random\n",
    "jlist3 = [1, 2, 3, 4, 5]\n",
    "jlist4 = []\n",
    "for i in jlist3 :\n",
    "    liness = []\n",
    "    for j in range(i):\n",
    "        liness.append(random.randint(1, 100))\n",
    "    jlist4.append(liness)\n",
    "for i in jlist4 :\n",
    "    for j in i :\n",
    "        print(j, end = ' ')\n",
    "    print()\n",
    "print()\n",
    "# append jagged list\n",
    "list10 = [[10 * i] * i for i in [1, 2, 3, 4, 5]]\n",
    "list10.append(99)\n",
    "list10[0].append(98)\n",
    "print(list10)"
   ]
  },
  {
   "cell_type": "code",
   "execution_count": 38,
   "id": "af10138d",
   "metadata": {},
   "outputs": [
    {
     "name": "stdout",
     "output_type": "stream",
     "text": [
      "0  1  0  1  1  1  \n",
      "1  0  1  1  0  1  \n",
      "1  0  0  0  0  0  \n",
      "The number of seats left the movie theater :  9\n"
     ]
    }
   ],
   "source": [
    "# Movie Theater Ticketing\n",
    "import random\n",
    "\n",
    "seat = []\n",
    "for i in range(3) :\n",
    "    line = []\n",
    "    for j in range(6) :\n",
    "        rand = random.randrange(0, 2)\n",
    "        line.append(rand)\n",
    "    seat.append(line)\n",
    "\n",
    "available = 0 \n",
    "for i in range(3) :\n",
    "    for j in range(6) :\n",
    "        print(seat[i][j], '', end = ' ')\n",
    "        if seat[i][j] == 0 :\n",
    "            available += 1\n",
    "    print()\n",
    "print('The number of seats left the movie theater : ', available)"
   ]
  },
  {
   "cell_type": "markdown",
   "id": "9f3af2e7",
   "metadata": {},
   "source": [
    "## Question paper coding"
   ]
  },
  {
   "cell_type": "code",
   "execution_count": 17,
   "id": "e919e4c4",
   "metadata": {},
   "outputs": [
    {
     "name": "stdout",
     "output_type": "stream",
     "text": [
      "1 2 3 4 \n",
      "5 6 7 8 \n",
      "9 10 11 12 \n",
      "13 14 15 16 \n"
     ]
    }
   ],
   "source": [
    "# Create a 4x4 2-dimensional list with values from 1 to 16, and use a for statement to print all items as follows.\n",
    "\n",
    "list_array = [[1, 2, 3, 4], [5, 6, 7, 8], [9, 10, 11, 12], [13, 14, 15, 16]]\n",
    "\n",
    "for i in list_array :\n",
    "    for j in i :\n",
    "        print(j, end = \" \")\n",
    "    print()"
   ]
  },
  {
   "cell_type": "code",
   "execution_count": 26,
   "id": "25a5a865",
   "metadata": {},
   "outputs": [
    {
     "name": "stdout",
     "output_type": "stream",
     "text": [
      "1  : [1, 2, 3, 4]\n",
      "2  : [5, 6, 7, 8]\n",
      "3  : [9, 10, 11, 12]\n",
      "4  : [13, 14, 15, 16]\n"
     ]
    }
   ],
   "source": [
    "list_array = [[1, 2, 3, 4], [5, 6, 7, 8], [9, 10, 11, 12], [13, 14, 15, 16]]\n",
    "a = 0\n",
    "\n",
    "for i in list_array:\n",
    "    a += 1\n",
    "    print(a,\" :\", i)"
   ]
  },
  {
   "cell_type": "code",
   "execution_count": null,
   "id": "c09c68f9",
   "metadata": {},
   "outputs": [],
   "source": []
  }
 ],
 "metadata": {
  "kernelspec": {
   "display_name": "Python 3 (ipykernel)",
   "language": "python",
   "name": "python3"
  },
  "language_info": {
   "codemirror_mode": {
    "name": "ipython",
    "version": 3
   },
   "file_extension": ".py",
   "mimetype": "text/x-python",
   "name": "python",
   "nbconvert_exporter": "python",
   "pygments_lexer": "ipython3",
   "version": "3.8.17"
  }
 },
 "nbformat": 4,
 "nbformat_minor": 5
}
