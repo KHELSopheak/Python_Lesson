{
 "cells": [
  {
   "cell_type": "code",
   "execution_count": 6,
   "id": "e84da2d7",
   "metadata": {},
   "outputs": [
    {
     "name": "stdout",
     "output_type": "stream",
     "text": [
      "Average age is : 21.75.\n"
     ]
    }
   ],
   "source": [
    "person1 = ['Khel Sopheak', 21, 1, 176.0, 63]\n",
    "person2 = ['Eam Monyreach', 25, 1, 165.0, 45]\n",
    "person3 = ['Piseth Mao', 21, 1, 164.0, 60]\n",
    "person4 = ['Monika Rith', 20, 0, 163.0, 53]\n",
    "\n",
    "person_list = person1 + person2 + person3 + person4\n",
    "\n",
    "n_persons = int (len(person_list) / 5)\n",
    "\n",
    "age = person_list[1::5]\n",
    "sum_age = sum(age)\n",
    "\n",
    "average_age = float(sum_age / n_persons)\n",
    "\n",
    "print('Average age is : ' + str(average_age) + '.')\n",
    "\n",
    "\n"
   ]
  },
  {
   "cell_type": "code",
   "execution_count": 8,
   "id": "6148f6ca",
   "metadata": {},
   "outputs": [
    {
     "name": "stdout",
     "output_type": "stream",
     "text": [
      "[1, 2, 3, 4, 5, 6, 7, 8, 9]\n"
     ]
    }
   ],
   "source": [
    "list1 = list(range(1,10))\n",
    "print(list1)"
   ]
  },
  {
   "cell_type": "code",
   "execution_count": 21,
   "id": "a34fc96c",
   "metadata": {},
   "outputs": [
    {
     "data": {
      "text/plain": [
       "(True, False)"
      ]
     },
     "execution_count": 21,
     "metadata": {},
     "output_type": "execute_result"
    }
   ],
   "source": [
    "person1 = [10, 20, 30, 40]\n",
    "10 in person1, 77 in person1"
   ]
  },
  {
   "cell_type": "code",
   "execution_count": 1,
   "id": "92ade658",
   "metadata": {},
   "outputs": [
    {
     "name": "stdout",
     "output_type": "stream",
     "text": [
      "'Student's average math score is : 91.25\n"
     ]
    }
   ],
   "source": [
    "scores = (('Hyun', 88, 95, 90), ('Kang', 85, 90, 95), ('Park', 70, 90, 80), ('Hong', 90, 90, 96))\n",
    "\n",
    "tup1 = list(scores[0])\n",
    "tup2 = list(scores[1])\n",
    "tup3 = list(scores[2])\n",
    "tup4 = list(scores[3])\n",
    "\n",
    "average_math = (tup1[2] + tup2[2] + tup3[2] + tup4[2]) / 4\n",
    "print(\"'Student's average math score is :\", average_math)"
   ]
  },
  {
   "cell_type": "code",
   "execution_count": null,
   "id": "6375adb9",
   "metadata": {},
   "outputs": [],
   "source": []
  }
 ],
 "metadata": {
  "kernelspec": {
   "display_name": "Python 3 (ipykernel)",
   "language": "python",
   "name": "python3"
  },
  "language_info": {
   "codemirror_mode": {
    "name": "ipython",
    "version": 3
   },
   "file_extension": ".py",
   "mimetype": "text/x-python",
   "name": "python",
   "nbconvert_exporter": "python",
   "pygments_lexer": "ipython3",
   "version": "3.8.17"
  }
 },
 "nbformat": 4,
 "nbformat_minor": 5
}
