{
 "cells": [
  {
   "cell_type": "markdown",
   "id": "4420eccd",
   "metadata": {},
   "source": [
    "## 14 Dictionary method"
   ]
  },
  {
   "cell_type": "markdown",
   "id": "2c074e68",
   "metadata": {},
   "source": [
    "## Mission"
   ]
  },
  {
   "cell_type": "code",
   "execution_count": 1,
   "id": "13928e1b",
   "metadata": {},
   "outputs": [
    {
     "name": "stdout",
     "output_type": "stream",
     "text": [
      "Phone number before update :\n",
      "Chinese Restaurant : 010-1234-4500\n",
      "Japanese Restaurant : 010-2230-6540\n",
      "Western restaurant : 010-3232-7788\n",
      "Enter the address and review of Chinese Restaurant: 123 2\n",
      "Enter the address and review of Japanese Restaurant: 213 1\n",
      "Enter the address and review of Western restaurant: 242 3\n",
      "Phone number after update\n",
      "Chinese Restaurant : ('010-1234-4500', '123', '2')\n",
      "Japanese Restaurant : ('010-2230-6540', '213', '1')\n",
      "Western restaurant : ('010-3232-7788', '242', '3')\n"
     ]
    }
   ],
   "source": [
    "## Telephone directory \n",
    "\n",
    "tele_dir_dic = {'Chinese Restaurant' : ('010-1234-4500'), 'Japanese Restaurant' : ('010-2230-6540'), 'Western restaurant' : ('010-3232-7788')}\n",
    "print(\"Phone number before update :\")\n",
    "\n",
    "for key, value in tele_dir_dic.items() :\n",
    "    print(key + \" :\", value)\n",
    "for key, value in tele_dir_dic.items() :\n",
    "    adr, review = input('Enter the address and review of ' + key + ': ').split()\n",
    "    update = (value, adr, review)\n",
    "    tele_dir_dic[key] = update\n",
    "    \n",
    "print(\"Phone number after update\")\n",
    "\n",
    "for key, value in tele_dir_dic.items() :\n",
    "    print(key + \" :\", value)"
   ]
  },
  {
   "cell_type": "markdown",
   "id": "3a748391",
   "metadata": {},
   "source": [
    "## Key concept"
   ]
  },
  {
   "cell_type": "code",
   "execution_count": 8,
   "id": "665c9cc5",
   "metadata": {},
   "outputs": [
    {
     "name": "stdout",
     "output_type": "stream",
     "text": [
      "Devid Doe : 012-3217-4535\n",
      "Jon smith : 021-324-5678\n",
      "Jonh smith : 021-3214-5678\n"
     ]
    }
   ],
   "source": [
    "ph_book = {'Devid Doe':'012-3217-4535', 'Jon smith' : '021-324-5678','Jonh smith' : '021-3214-5678'}\n",
    "\n",
    "ph_book.items()\n",
    "for key,value in ph_book.items() :\n",
    "    print(key + \" :\", value)"
   ]
  },
  {
   "cell_type": "code",
   "execution_count": 12,
   "id": "3f5b5048",
   "metadata": {},
   "outputs": [
    {
     "name": "stdout",
     "output_type": "stream",
     "text": [
      "a : 12\n",
      "b : 21\n",
      "c : 32\n"
     ]
    }
   ],
   "source": [
    "x = {'a' : 12, 'b' : 21, 'c' : 32}\n",
    "for i, j in x.items() :\n",
    "    print(i + \" :\", j)"
   ]
  },
  {
   "cell_type": "code",
   "execution_count": 14,
   "id": "5cfb13c4",
   "metadata": {},
   "outputs": [
    {
     "name": "stdout",
     "output_type": "stream",
     "text": [
      "a b c "
     ]
    }
   ],
   "source": [
    "y = {'a' : 12, 'b' : 21, 'c' : 32}\n",
    "for i in y.keys() :\n",
    "    print(i, end= ' ')"
   ]
  },
  {
   "cell_type": "code",
   "execution_count": 15,
   "id": "80c9675b",
   "metadata": {},
   "outputs": [
    {
     "name": "stdout",
     "output_type": "stream",
     "text": [
      "12 21 32 "
     ]
    }
   ],
   "source": [
    "z = {'a' : 12, 'b' : 21, 'c' : 32}\n",
    "for i in z.values() :\n",
    "    print(i, end= ' ')"
   ]
  },
  {
   "cell_type": "code",
   "execution_count": 62,
   "id": "304669a0",
   "metadata": {},
   "outputs": [
    {
     "name": "stdout",
     "output_type": "stream",
     "text": [
      "alphabet counting : {'a': 1, 'b': 4, 'c': 2, 'd': 2}\n"
     ]
    }
   ],
   "source": [
    "str1 = ['a', 'b', 'c', 'd', 'c', 'b', 'd', 'b', 'b']\n",
    "dic = {}\n",
    "for ch in str1 :\n",
    "    if ch not in dic.keys() :\n",
    "        dic[ch] = 0\n",
    "    dic[ch] += 1\n",
    "print('alphabet counting :', dic)"
   ]
  },
  {
   "cell_type": "code",
   "execution_count": 65,
   "id": "e51cbb93",
   "metadata": {},
   "outputs": [
    {
     "name": "stdout",
     "output_type": "stream",
     "text": [
      "[('a', 1)]\n",
      "[('a', 1), ('b', 1)]\n",
      "[('a', 1), ('b', 1), ('c', 1)]\n",
      "[('a', 1), ('b', 1), ('c', 1), ('d', 1)]\n",
      "[('a', 1), ('b', 1), ('c', 2), ('d', 1)]\n",
      "[('a', 1), ('b', 2), ('c', 2), ('d', 1)]\n",
      "[('a', 1), ('b', 2), ('c', 2), ('d', 2)]\n",
      "[('a', 1), ('b', 3), ('c', 2), ('d', 2)]\n",
      "[('a', 1), ('b', 4), ('c', 2), ('d', 2)]\n",
      "alphabet counting {'a': 1, 'b': 4, 'c': 2, 'd': 2}\n"
     ]
    }
   ],
   "source": [
    "str1 = ['a', 'b', 'c', 'd', 'c', 'b', 'd', 'b', 'b']\n",
    "dic = {}\n",
    "for ch in str1 :\n",
    "    dic.setdefault(ch, 0)\n",
    "    dic[ch] += 1\n",
    "    print(list(dic.items()))\n",
    "print('alphabet counting',dic)"
   ]
  },
  {
   "cell_type": "code",
   "execution_count": 69,
   "id": "7c7664e1",
   "metadata": {},
   "outputs": [
    {
     "name": "stdout",
     "output_type": "stream",
     "text": [
      "{'a': 12, 'b': 21, 'c': 32, 'f': 50}\n"
     ]
    }
   ],
   "source": [
    "za = {'a' : 12, 'b' : 21, 'c' : 32}\n",
    "za.setdefault('f', 50)\n",
    "print(za)"
   ]
  },
  {
   "cell_type": "code",
   "execution_count": 73,
   "id": "81a37aea",
   "metadata": {},
   "outputs": [
    {
     "data": {
      "text/plain": [
       "{'a': None, 'b': None, 'c': None, 'd': None}"
      ]
     },
     "execution_count": 73,
     "metadata": {},
     "output_type": "execute_result"
    }
   ],
   "source": [
    "keys = ('a', 'b', 'c', 'd')\n",
    "x = dict.fromkeys(keys)\n",
    "x"
   ]
  },
  {
   "cell_type": "code",
   "execution_count": 93,
   "id": "fa95de2d",
   "metadata": {},
   "outputs": [
    {
     "data": {
      "text/plain": [
       "{'a': 100, 'b': 100, 'c': 100, 'd': 100}"
      ]
     },
     "execution_count": 93,
     "metadata": {},
     "output_type": "execute_result"
    }
   ],
   "source": [
    "xa = dict.fromkeys(keys, 100)\n",
    "xa"
   ]
  },
  {
   "cell_type": "markdown",
   "id": "78597069",
   "metadata": {},
   "source": [
    "## Paper coding"
   ]
  },
  {
   "cell_type": "code",
   "execution_count": 2,
   "id": "0f961ab3",
   "metadata": {},
   "outputs": [
    {
     "name": "stdout",
     "output_type": "stream",
     "text": [
      "Last Name : Doe\n",
      "First Name : David\n",
      "Company : Samsung\n"
     ]
    }
   ],
   "source": [
    "person_dic = {'Last Name' : 'Doe', 'First Name' : 'David', 'Company' : 'Samsung'}\n",
    "for key, value in person_dic.items() :\n",
    "    print(key + \" :\", value)"
   ]
  },
  {
   "cell_type": "code",
   "execution_count": 16,
   "id": "0560d717",
   "metadata": {},
   "outputs": [
    {
     "name": "stdout",
     "output_type": "stream",
     "text": [
      "Enter the object :Milk\n"
     ]
    }
   ],
   "source": [
    "items = {\"Coffee drink\" : 7, \"Pen\" : 3, \"Paper cup\" : 2, \"Milk\" : 1, \"Coke\" : 4, \"Book\" : 5}\n",
    "ob_name = input(\"Enter the object : \")\n",
    "for i, j in items.items():\n",
    "    if ob_name == items.keys() :\n",
    "        print(items.values)\n"
   ]
  }
 ],
 "metadata": {
  "kernelspec": {
   "display_name": "Python 3 (ipykernel)",
   "language": "python",
   "name": "python3"
  },
  "language_info": {
   "codemirror_mode": {
    "name": "ipython",
    "version": 3
   },
   "file_extension": ".py",
   "mimetype": "text/x-python",
   "name": "python",
   "nbconvert_exporter": "python",
   "pygments_lexer": "ipython3",
   "version": "3.8.17"
  }
 },
 "nbformat": 4,
 "nbformat_minor": 5
}
