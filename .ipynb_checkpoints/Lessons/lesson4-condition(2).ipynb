{
 "cells": [
  {
   "cell_type": "code",
   "execution_count": 4,
   "id": "11431772",
   "metadata": {},
   "outputs": [
    {
     "name": "stdout",
     "output_type": "stream",
     "text": [
      "22\n"
     ]
    }
   ],
   "source": [
    "age = 22 \n",
    "if age < 20 :\n",
    "    pass\n",
    "print (age)"
   ]
  },
  {
   "cell_type": "code",
   "execution_count": 2,
   "id": "275076b7",
   "metadata": {},
   "outputs": [
    {
     "name": "stdout",
     "output_type": "stream",
     "text": [
      "Enter your id :Devid123@$\n",
      "Your id is correct!\n"
     ]
    }
   ],
   "source": [
    "user_id = 'Devid123@$'\n",
    "\n",
    "s = input('Enter your id :')\n",
    "\n",
    "if s == user_id :\n",
    "    print('Your id is correct!')"
   ]
  },
  {
   "cell_type": "code",
   "execution_count": 5,
   "id": "2d881fd1",
   "metadata": {},
   "outputs": [
    {
     "name": "stdout",
     "output_type": "stream",
     "text": [
      "Enter your number :9\n",
      "IT is multiple of 3!\n"
     ]
    }
   ],
   "source": [
    "number = int(input('Enter your number :'))\n",
    "\n",
    "if (number % 3) == 0 :\n",
    "    print('IT is multiple of 3!')"
   ]
  },
  {
   "cell_type": "code",
   "execution_count": 13,
   "id": "73bee986",
   "metadata": {},
   "outputs": [
    {
     "name": "stdout",
     "output_type": "stream",
     "text": [
      "Pleace enter ID :Ilovepython\n",
      "please enter Password :asd\n",
      "Wrong password\n"
     ]
    }
   ],
   "source": [
    "my_id = \"Ilovepython\"\n",
    "password = \"123@Soda\"\n",
    "\n",
    "string1 = input(\"Pleace enter ID :\")\n",
    "string2 = input(\"please enter Password :\")\n",
    "\n",
    "if string1 == my_id and string2 == password :\n",
    "    print(\"Correct!\")\n",
    "elif string1 != my_id : \n",
    "    print(\"Wrong id!\") \n",
    "else :\n",
    "    print(\"Wrong password\")\n"
   ]
  },
  {
   "cell_type": "code",
   "execution_count": 17,
   "id": "b623ab53",
   "metadata": {},
   "outputs": [
    {
     "name": "stdout",
     "output_type": "stream",
     "text": [
      "enter your score :100\n",
      "Your grade : A\n"
     ]
    }
   ],
   "source": [
    "score = int(input(\"enter your score :\"))\n",
    "\n",
    "if score >= 90 :\n",
    "    grade = 'A'\n",
    "else :\n",
    "    if score >= 80 :\n",
    "        grade = 'B'\n",
    "    else :\n",
    "        if score >= 70 :\n",
    "            grade = 'C'\n",
    "        else :\n",
    "            if score >= 60 :\n",
    "                grade = 'D'\n",
    "            else :\n",
    "                if score >= 50 :\n",
    "                    grade = 'E'\n",
    "                else :\n",
    "                    grade = 'F'\n",
    "print('Your grade :', grade)\n",
    "        "
   ]
  },
  {
   "cell_type": "code",
   "execution_count": null,
   "id": "401fbf11",
   "metadata": {},
   "outputs": [],
   "source": []
  }
 ],
 "metadata": {
  "kernelspec": {
   "display_name": "Python 3 (ipykernel)",
   "language": "python",
   "name": "python3"
  },
  "language_info": {
   "codemirror_mode": {
    "name": "ipython",
    "version": 3
   },
   "file_extension": ".py",
   "mimetype": "text/x-python",
   "name": "python",
   "nbconvert_exporter": "python",
   "pygments_lexer": "ipython3",
   "version": "3.8.17"
  }
 },
 "nbformat": 4,
 "nbformat_minor": 5
}
