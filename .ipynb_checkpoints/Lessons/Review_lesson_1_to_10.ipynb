{
 "cells": [
  {
   "cell_type": "code",
   "execution_count": 5,
   "id": "54d60729",
   "metadata": {},
   "outputs": [
    {
     "name": "stdout",
     "output_type": "stream",
     "text": [
      "<class 'int'>\n"
     ]
    }
   ],
   "source": [
    "#Variable And Data types Operator\n",
    "int('1' + '0' + '0' + '0')\n",
    "print(type(int()))"
   ]
  },
  {
   "cell_type": "code",
   "execution_count": 9,
   "id": "bcd0dc57",
   "metadata": {},
   "outputs": [
    {
     "name": "stdout",
     "output_type": "stream",
     "text": [
      "100\n",
      "5050\n"
     ]
    }
   ],
   "source": [
    "print(int(50) + 50)\n",
    "print(str(50) + '50')"
   ]
  },
  {
   "cell_type": "code",
   "execution_count": 12,
   "id": "f276662e",
   "metadata": {},
   "outputs": [
    {
     "name": "stdout",
     "output_type": "stream",
     "text": [
      "Money you put in :5000\n",
      "Price of goods :300\n",
      "Change 4700\n",
      "the number of 500 won coins:  9\n",
      "the number od 100 won coins:  2\n"
     ]
    }
   ],
   "source": [
    "#Change calculator program\n",
    "money = int(input(\"Money you put in :\"))\n",
    "price = int(input(\"Price of goods :\"))\n",
    "\n",
    "change = money - price\n",
    "print('Change', change)\n",
    "\n",
    "coin500s = change // 500\n",
    "change = change % 500\n",
    "coin100s = change // 100\n",
    "\n",
    "print('the number of 500 won coins: ', coin500s)\n",
    "print('the number od 100 won coins: ',coin100s)"
   ]
  },
  {
   "cell_type": "code",
   "execution_count": 20,
   "id": "0475ad76",
   "metadata": {},
   "outputs": [
    {
     "name": "stdout",
     "output_type": "stream",
     "text": [
      "3\n",
      "<class 'str'>\n",
      "4407537008\n"
     ]
    },
    {
     "data": {
      "text/plain": [
       "400"
      ]
     },
     "execution_count": 20,
     "metadata": {},
     "output_type": "execute_result"
    }
   ],
   "source": [
    "#Python built-in Function\n",
    "\n",
    "str1 = \"FOD\"\n",
    "print(len(str1))\n",
    "\n",
    "print(type(str1))\n",
    "\n",
    "print(id(str1))\n",
    "\n",
    "\n",
    "eval(\"100 + 200 + 300\")\n"
   ]
  },
  {
   "cell_type": "code",
   "execution_count": 24,
   "id": "19ce3f2d",
   "metadata": {},
   "outputs": [
    {
     "data": {
      "text/plain": [
       "400"
      ]
     },
     "execution_count": 24,
     "metadata": {},
     "output_type": "execute_result"
    }
   ],
   "source": [
    "#built in function\n",
    "abs(-200)\n",
    "#200\n",
    "\n",
    "min(200, 100, 300, 400)\n",
    "#100\n",
    "\n",
    "max(200, 100, 300, 400)\n",
    "#400"
   ]
  },
  {
   "cell_type": "code",
   "execution_count": 28,
   "id": "d6984b51",
   "metadata": {},
   "outputs": [
    {
     "data": {
      "text/plain": [
       "['S', 'B', 'B', 'A', 'A']"
      ]
     },
     "execution_count": 28,
     "metadata": {},
     "output_type": "execute_result"
    }
   ],
   "source": [
    "#built in function\n",
    "\n",
    "sorted('SABAB', reverse = True)"
   ]
  },
  {
   "cell_type": "code",
   "execution_count": 32,
   "id": "53d904ed",
   "metadata": {},
   "outputs": [
    {
     "data": {
      "text/plain": [
       "datetime.datetime(2023, 7, 25, 16, 7, 13, 244763)"
      ]
     },
     "execution_count": 32,
     "metadata": {},
     "output_type": "execute_result"
    }
   ],
   "source": [
    "#Module and import statement\n",
    "import datetime as dt\n",
    "start_time = dt.datetime.now()\n",
    "start_time.replace(month = 7, day = 25)"
   ]
  },
  {
   "cell_type": "code",
   "execution_count": 33,
   "id": "9a0823da",
   "metadata": {},
   "outputs": [
    {
     "name": "stdout",
     "output_type": "stream",
     "text": [
      "2023-07-25\n"
     ]
    }
   ],
   "source": [
    "from datetime import *\n",
    "today = date.today()\n",
    "print(today)"
   ]
  },
  {
   "cell_type": "code",
   "execution_count": 34,
   "id": "fbde27ed",
   "metadata": {},
   "outputs": [
    {
     "data": {
      "text/plain": [
       "datetime.datetime(2023, 7, 25, 16, 15, 10, 585953)"
      ]
     },
     "execution_count": 34,
     "metadata": {},
     "output_type": "execute_result"
    }
   ],
   "source": [
    "import datetime\n",
    "datetime.datetime.now()"
   ]
  },
  {
   "cell_type": "code",
   "execution_count": 35,
   "id": "e70ad976",
   "metadata": {},
   "outputs": [
    {
     "name": "stdout",
     "output_type": "stream",
     "text": [
      "Time after epoch = 1690276724.9467678\n"
     ]
    }
   ],
   "source": [
    "import time\n",
    "seconds = time.time()\n",
    "print('Time after epoch =', seconds)"
   ]
  },
  {
   "cell_type": "code",
   "execution_count": 38,
   "id": "f42ae54e",
   "metadata": {},
   "outputs": [
    {
     "name": "stdout",
     "output_type": "stream",
     "text": [
      "2023-07-25 16-24-03\n"
     ]
    }
   ],
   "source": [
    "import time\n",
    "#unix_timestamp = time.time()\n",
    "local_time = time.localtime(time.time())\n",
    "print(time.strftime('%Y-%m-%d %H-%M-%S', local_time))"
   ]
  },
  {
   "cell_type": "code",
   "execution_count": 43,
   "id": "5c7dd64d",
   "metadata": {},
   "outputs": [
    {
     "data": {
      "text/plain": [
       "64.0"
      ]
     },
     "execution_count": 43,
     "metadata": {},
     "output_type": "execute_result"
    }
   ],
   "source": [
    "#The math method\n",
    "import math as m \n",
    "m.pow(4,3)"
   ]
  },
  {
   "cell_type": "code",
   "execution_count": 44,
   "id": "1b782211",
   "metadata": {},
   "outputs": [
    {
     "data": {
      "text/plain": [
       "999.0"
      ]
     },
     "execution_count": 44,
     "metadata": {},
     "output_type": "execute_result"
    }
   ],
   "source": [
    "import math as m\n",
    "m.fabs(-999)"
   ]
  },
  {
   "cell_type": "code",
   "execution_count": 49,
   "id": "6c0119cd",
   "metadata": {},
   "outputs": [
    {
     "data": {
      "text/plain": [
       "-2"
      ]
     },
     "execution_count": 49,
     "metadata": {},
     "output_type": "execute_result"
    }
   ],
   "source": [
    "import math as m\n",
    "m.ceil(-2.1)"
   ]
  },
  {
   "cell_type": "code",
   "execution_count": 50,
   "id": "4fe1dccc",
   "metadata": {},
   "outputs": [
    {
     "data": {
      "text/plain": [
       "3"
      ]
     },
     "execution_count": 50,
     "metadata": {},
     "output_type": "execute_result"
    }
   ],
   "source": [
    "import math as m\n",
    "m.ceil(2.1)"
   ]
  },
  {
   "cell_type": "code",
   "execution_count": 52,
   "id": "68908b42",
   "metadata": {},
   "outputs": [
    {
     "data": {
      "text/plain": [
       "2"
      ]
     },
     "execution_count": 52,
     "metadata": {},
     "output_type": "execute_result"
    }
   ],
   "source": [
    "import math as m\n",
    "m.floor(2.1)"
   ]
  },
  {
   "cell_type": "code",
   "execution_count": 53,
   "id": "b51b30e2",
   "metadata": {},
   "outputs": [
    {
     "data": {
      "text/plain": [
       "-3"
      ]
     },
     "execution_count": 53,
     "metadata": {},
     "output_type": "execute_result"
    }
   ],
   "source": [
    "import math as m\n",
    "m.floor(-2.1)"
   ]
  },
  {
   "cell_type": "code",
   "execution_count": 54,
   "id": "5c745612",
   "metadata": {},
   "outputs": [
    {
     "data": {
      "text/plain": [
       "0.999999327347282"
      ]
     },
     "execution_count": 54,
     "metadata": {},
     "output_type": "execute_result"
    }
   ],
   "source": [
    "import math as m\n",
    "m.log(2.71828)\n"
   ]
  },
  {
   "cell_type": "code",
   "execution_count": 57,
   "id": "e835df20",
   "metadata": {},
   "outputs": [
    {
     "data": {
      "text/plain": [
       "2.0"
      ]
     },
     "execution_count": 57,
     "metadata": {},
     "output_type": "execute_result"
    }
   ],
   "source": [
    "import math as m\n",
    "m.log(100, 10)"
   ]
  },
  {
   "cell_type": "code",
   "execution_count": 58,
   "id": "7843a06e",
   "metadata": {},
   "outputs": [
    {
     "data": {
      "text/plain": [
       "0.8939966636005579"
      ]
     },
     "execution_count": 58,
     "metadata": {},
     "output_type": "execute_result"
    }
   ],
   "source": [
    "import math as m\n",
    "m.sin(90.0)"
   ]
  },
  {
   "cell_type": "code",
   "execution_count": 68,
   "id": "4194dd73",
   "metadata": {},
   "outputs": [
    {
     "name": "stdout",
     "output_type": "stream",
     "text": [
      "0.017900095493106116\n",
      "2\n",
      "11\n"
     ]
    }
   ],
   "source": [
    "#Random module\n",
    "import random as rd\n",
    "print(rd.random())\n",
    "print(rd.randrange(0, 10, 2))\n",
    "print(rd.randint(2, 20))"
   ]
  },
  {
   "cell_type": "code",
   "execution_count": 71,
   "id": "0048d74f",
   "metadata": {},
   "outputs": [
    {
     "name": "stdout",
     "output_type": "stream",
     "text": [
      "Random integer from 1 to 10 : [7, 9, 4, 10]\n"
     ]
    }
   ],
   "source": [
    "import random as rd \n",
    "\n",
    "a = list(range(1, 11))\n",
    "b = rd.sample(a, 4) # random by 4 numbers\n",
    "\n",
    "print('Random integer from 1 to 10 :', b)"
   ]
  },
  {
   "cell_type": "code",
   "execution_count": 73,
   "id": "4174076b",
   "metadata": {},
   "outputs": [
    {
     "name": "stdout",
     "output_type": "stream",
     "text": [
      "result of 10 > 5 : True\n"
     ]
    }
   ],
   "source": [
    "#Boolean expresstion\n",
    "print('result of 10 > 5 :', 10 > 5)"
   ]
  },
  {
   "cell_type": "code",
   "execution_count": 1,
   "id": "6d052c72",
   "metadata": {},
   "outputs": [
    {
     "name": "stdout",
     "output_type": "stream",
     "text": [
      "Enter the first integer :100\n",
      "Input data type : <class 'str'>\n"
     ]
    }
   ],
   "source": [
    "#Conditional statement\n",
    "x = input(\"Enter the first integer :\")\n",
    "print('Input data type :', type(x))"
   ]
  },
  {
   "cell_type": "code",
   "execution_count": 2,
   "id": "2584dada",
   "metadata": {},
   "outputs": [
    {
     "name": "stdout",
     "output_type": "stream",
     "text": [
      "Enter the first integer :200\n",
      "Input data type : <class 'int'>\n"
     ]
    }
   ],
   "source": [
    "y = int(input('Enter the first integer :'))\n",
    "print('Input data type :', type(y))"
   ]
  },
  {
   "cell_type": "code",
   "execution_count": 14,
   "id": "4f2ba477",
   "metadata": {},
   "outputs": [
    {
     "name": "stdout",
     "output_type": "stream",
     "text": [
      "Enter character : sasa\n",
      "z is not numeric character\n"
     ]
    }
   ],
   "source": [
    "z = input('Enter character : ')\n",
    "\n",
    "if z.isdigit() == True :\n",
    "    z = int(z)\n",
    "    print('z is integer ', type(z))\n",
    "else :\n",
    "    z = str(z)\n",
    "    print('z is not numeric character')"
   ]
  },
  {
   "cell_type": "code",
   "execution_count": 11,
   "id": "6034d7e7",
   "metadata": {},
   "outputs": [
    {
     "name": "stdout",
     "output_type": "stream",
     "text": [
      "Enter password :P@$$word\n",
      "Wellcome!\n"
     ]
    }
   ],
   "source": [
    "pw = 'P@$$word'\n",
    "put = input(str('Enter password :'))\n",
    "\n",
    "if put == pw :\n",
    "    print('Wellcome!')\n",
    "else :\n",
    "    print('Wrong password.')"
   ]
  },
  {
   "cell_type": "code",
   "execution_count": 16,
   "id": "efab7a99",
   "metadata": {},
   "outputs": [
    {
     "name": "stdout",
     "output_type": "stream",
     "text": [
      "Let is start the coin toss game.\n",
      "Back\n",
      "Game Over.\n"
     ]
    }
   ],
   "source": [
    "import random as rd\n",
    "\n",
    "print('Let is start the coin toss game.')\n",
    "coin = rd.randrange(2)\n",
    "\n",
    "if coin == 0 :\n",
    "    print('Front')\n",
    "else :\n",
    "    print('Back')\n",
    "print('Game Over.')"
   ]
  },
  {
   "cell_type": "code",
   "execution_count": 19,
   "id": "75f5c7e8",
   "metadata": {},
   "outputs": [
    {
     "name": "stdout",
     "output_type": "stream",
     "text": [
      "Enter the number :-1\n",
      "It is negative number.\n"
     ]
    }
   ],
   "source": [
    "n = int(input(\"Enter the number :\"))\n",
    "\n",
    "if n >= 0 :\n",
    "    if n == 0 :\n",
    "        print(\"It is 0.\")\n",
    "    else :\n",
    "        print(\"It is positive.\")\n",
    "else :\n",
    "    print(\"It is negative number.\")"
   ]
  },
  {
   "cell_type": "code",
   "execution_count": 23,
   "id": "796e0d1b",
   "metadata": {},
   "outputs": [
    {
     "name": "stdout",
     "output_type": "stream",
     "text": [
      "##################################################\n",
      "200 It is positive number\n",
      "200 It is an even number.\n"
     ]
    }
   ],
   "source": [
    "print('#'*50)\n",
    "num = 200\n",
    "\n",
    "if num < 0 :\n",
    "    print( num, \"It is negative number\")\n",
    "else :\n",
    "    print( num, \"It is positive number\")\n",
    "    if num  % 2 == 0 :\n",
    "        print( num, \"It is an even number.\")\n",
    "    else :\n",
    "        print( num, \"It is an odd number.\")"
   ]
  },
  {
   "cell_type": "markdown",
   "id": "67f27fbc",
   "metadata": {},
   "source": [
    "## print('$'*80)\n",
    "\n",
    "print(\"It is Sopheak is fruit shop.\")\n",
    "print()\n",
    "print(\"1: Apple( Price : 12000 riel)\")\n",
    "print(\"2: Grape( Price : 10000 riel)\")\n",
    "print(\"3: Water Melon( Price : 4000 riel\")\n",
    "print(\"4: Orange( Price : 8000 riel)\")\n",
    "\n",
    "total_price = 0\n",
    "order = int(input(\"Please enter the number of the items (between 1 and 4) : \"))\n",
    "count = int(input(\"Please enter the number of items (between 1 and 10)\"))\n",
    "print()\n",
    "\n",
    "if order == 1 :\n",
    "    fruit = 'Apple'\n",
    "    price = 12000\n",
    "elif order == 2 :\n",
    "    fruit == 'Grape'\n",
    "    price == 10000\n",
    "elif order == 3 :\n",
    "    fruit == 'Water Melon'\n",
    "    price == 4000\n",
    "else :\n",
    "    fruit = 'Orange'\n",
    "    price = 8000\n",
    "\n",
    "print(\"The fruit you chose is :\", fruit)\n",
    "print(\"The price of you selected fruit is :\", price)\n",
    "print(\"The number that you selected is :\", count)\n",
    "print(\"The total amount is :\", price * count, \"iel.\")\n",
    "\n",
    "money = int(input(\"Please put the money in(ex: 12000)>>>\"))\n",
    "\n",
    "if money < price * count :\n",
    "    print(\" Sorry it is not enough money\")\n",
    "else :\n",
    "    change = money - price * count\n",
    "    print(\"Got\", money, \"riel. And the change is\", change, \"riel.\")"
   ]
  }
 ],
 "metadata": {
  "kernelspec": {
   "display_name": "Python 3 (ipykernel)",
   "language": "python",
   "name": "python3"
  },
  "language_info": {
   "codemirror_mode": {
    "name": "ipython",
    "version": 3
   },
   "file_extension": ".py",
   "mimetype": "text/x-python",
   "name": "python",
   "nbconvert_exporter": "python",
   "pygments_lexer": "ipython3",
   "version": "3.8.17"
  }
 },
 "nbformat": 4,
 "nbformat_minor": 5
}
