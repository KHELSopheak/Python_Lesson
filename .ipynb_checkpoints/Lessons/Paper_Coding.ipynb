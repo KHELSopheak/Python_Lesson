{
 "cells": [
  {
   "cell_type": "code",
   "execution_count": 19,
   "id": "e09ad0af",
   "metadata": {},
   "outputs": [
    {
     "name": "stdout",
     "output_type": "stream",
     "text": [
      "enter n :0\n",
      "true\n"
     ]
    }
   ],
   "source": [
    "n = int(input('enter n :'))\n",
    "\n",
    "if n in range(0, 11) :\n",
    "    print('true')\n",
    "else :\n",
    "    print('false')\n",
    "#print('n is :', n)"
   ]
  },
  {
   "cell_type": "code",
   "execution_count": 24,
   "id": "b9214193",
   "metadata": {},
   "outputs": [],
   "source": [
    "game_score = 1000\n",
    "if game_score >= 2000 :\n",
    "    print('aws')"
   ]
  },
  {
   "cell_type": "code",
   "execution_count": 3,
   "id": "a7e16be1",
   "metadata": {},
   "outputs": [
    {
     "name": "stdout",
     "output_type": "stream",
     "text": [
      "-59\n",
      "x = -59\n"
     ]
    }
   ],
   "source": [
    "import random\n",
    "x = random.randint(-100, 100)\n",
    "print(x)\n",
    "if x >= 0 :\n",
    "    print('Positive number')\n",
    "else :\n",
    "    print('x =',x)\n"
   ]
  },
  {
   "cell_type": "code",
   "execution_count": 20,
   "id": "a105c590",
   "metadata": {},
   "outputs": [
    {
     "name": "stdout",
     "output_type": "stream",
     "text": [
      "enter char:a\n",
      "it a vowel\n"
     ]
    }
   ],
   "source": [
    "alphabet = (input('enter char:'))\n",
    "\n",
    "if alphabet == 'a' or alphabet == 'e' or alphabet == 'i' or alphabet  == 'o' or alphabet == 'u' :\n",
    "    print('it a vowel')\n",
    "else :\n",
    "    print('it a consonant')"
   ]
  },
  {
   "cell_type": "code",
   "execution_count": 25,
   "id": "820d8474",
   "metadata": {},
   "outputs": [
    {
     "name": "stdout",
     "output_type": "stream",
     "text": [
      "Enter a, b :9 3\n",
      "true\n"
     ]
    }
   ],
   "source": [
    "a, b = input('Enter a, b :').split()\n",
    "a = int(a)\n",
    "b = int(b)\n",
    "if a % b == 0:\n",
    "    print('true')\n",
    "else :\n",
    "    print('false')"
   ]
  },
  {
   "cell_type": "code",
   "execution_count": 30,
   "id": "521cb765",
   "metadata": {},
   "outputs": [
    {
     "name": "stdout",
     "output_type": "stream",
     "text": [
      "2\n"
     ]
    }
   ],
   "source": [
    "prime_list = list(range(2, 11))\n",
    "print(prime_list[0])"
   ]
  },
  {
   "cell_type": "code",
   "execution_count": 7,
   "id": "05e9934f",
   "metadata": {},
   "outputs": [
    {
     "name": "stdout",
     "output_type": "stream",
     "text": [
      "426841212618"
     ]
    }
   ],
   "source": [
    "list1 = [ 2, 4, 6]\n",
    "list2 = [2, 1, 3]\n",
    "\n",
    "for a in list1 :\n",
    "    for b in list2 :\n",
    "        print((a * b), end='')\n",
    "\n"
   ]
  },
  {
   "cell_type": "code",
   "execution_count": 2,
   "id": "316ac116",
   "metadata": {},
   "outputs": [
    {
     "name": "stdout",
     "output_type": "stream",
     "text": [
      "0\n",
      "1\n",
      "2\n",
      "3\n",
      "4\n"
     ]
    }
   ],
   "source": [
    "#range function \n",
    "for i in range(5):\n",
    "    print(i)"
   ]
  },
  {
   "cell_type": "code",
   "execution_count": 6,
   "id": "ac94e91d",
   "metadata": {},
   "outputs": [
    {
     "name": "stdout",
     "output_type": "stream",
     "text": [
      "012345"
     ]
    }
   ],
   "source": [
    "for j in range(6):\n",
    "    print(j, end='')"
   ]
  },
  {
   "cell_type": "code",
   "execution_count": 42,
   "id": "d27e751f",
   "metadata": {},
   "outputs": [
    {
     "name": "stdout",
     "output_type": "stream",
     "text": [
      "4950\n"
     ]
    }
   ],
   "source": [
    "Sum =0\n",
    "for i in (range(1, 100)):\n",
    "    Sum +=i\n",
    "print(Sum)\n"
   ]
  },
  {
   "cell_type": "code",
   "execution_count": 41,
   "id": "532ca523",
   "metadata": {},
   "outputs": [
    {
     "name": "stdout",
     "output_type": "stream",
     "text": [
      "range(1, 100)\n"
     ]
    }
   ],
   "source": [
    "Sum = range(1, 100)\n",
    "if i in Sum:\n",
    "    print(Sum)"
   ]
  },
  {
   "cell_type": "code",
   "execution_count": 48,
   "id": "6e0ad80a",
   "metadata": {},
   "outputs": [
    {
     "name": "stdout",
     "output_type": "stream",
     "text": [
      "Enter a positive integer to sum: 10\n",
      "The sum from 1 to 10 is 55 \n"
     ]
    }
   ],
   "source": [
    "n = -1 \n",
    "while n <= 0:\n",
    "    n = int(input('Enter a positive integer to sum: '))\n",
    "\n",
    "s = 0\n",
    "for i in range(1 , n + 1) :\n",
    "    s = s + i\n",
    "print('The sum from 1 to {} is {} '.format(n, s))"
   ]
  },
  {
   "cell_type": "code",
   "execution_count": 50,
   "id": "012027ab",
   "metadata": {},
   "outputs": [
    {
     "name": "stdout",
     "output_type": "stream",
     "text": [
      "choose between Rock, star, shit :hh\n",
      "choose between Rock, star, shit :star\n",
      "The selected value is : star\n"
     ]
    }
   ],
   "source": [
    "selected = None \n",
    "while selected not in ['Rok', 'star', 'shit'] :\n",
    "    selected = input('choose between Rock, star, shit :')\n",
    "print('The selected value is :', selected)"
   ]
  },
  {
   "cell_type": "code",
   "execution_count": 52,
   "id": "6f46c663",
   "metadata": {},
   "outputs": [
    {
     "name": "stdout",
     "output_type": "stream",
     "text": [
      "Has the contruction been completed?no\n",
      "You have escape the loop :\n",
      "Has the contruction been completed?yes\n",
      "You have escape the loop :\n"
     ]
    }
   ],
   "source": [
    "under_contruction = True\n",
    "while under_contruction:\n",
    "    respone = input('Has the contruction been completed?')\n",
    "    if respone == 'yes' :\n",
    "        under_contruction = False\n",
    "    print('You have escape the loop :')"
   ]
  },
  {
   "cell_type": "code",
   "execution_count": 54,
   "id": "3360e1b2",
   "metadata": {},
   "outputs": [
    {
     "name": "stdout",
     "output_type": "stream",
     "text": [
      "Enter Password :SSS\n",
      "Enter Password :RR\n",
      "Enter Password :pythonisfun\n",
      "** Login Success **\n"
     ]
    }
   ],
   "source": [
    "password = \"\"\n",
    "while password != 'pythonisfun':\n",
    "    password = input('Enter Password :')\n",
    "print('** Login Success **')"
   ]
  },
  {
   "cell_type": "code",
   "execution_count": 59,
   "id": "57a31690",
   "metadata": {},
   "outputs": [
    {
     "name": "stdout",
     "output_type": "stream",
     "text": [
      "Please enter number :3\n",
      "continue?(yes/no) :yes\n",
      "Please enter number :4\n",
      "continue?(yes/no) :no\n",
      "The sum is : 7\n"
     ]
    }
   ],
   "source": [
    "total = 0\n",
    "answer = 'yes'\n",
    "while answer == 'yes' :\n",
    "    number = int(input('Please enter number :'))\n",
    "    total = total + number\n",
    "    answer = input('continue?(yes/no) :')\n",
    "print('The sum is :', total)    "
   ]
  },
  {
   "cell_type": "code",
   "execution_count": 64,
   "id": "f215e2be",
   "metadata": {},
   "outputs": [
    {
     "name": "stdout",
     "output_type": "stream",
     "text": [
      "P\n",
      "r\n",
      "o\n",
      "The end\n"
     ]
    }
   ],
   "source": [
    "st = 'Programming'\n",
    "for ch in st :\n",
    "    if ch in ['a', 'e', 'g', 'u'] :\n",
    "        break\n",
    "    print(ch)\n",
    "print('The end')"
   ]
  },
  {
   "cell_type": "code",
   "execution_count": 66,
   "id": "07792221",
   "metadata": {},
   "outputs": [
    {
     "name": "stdout",
     "output_type": "stream",
     "text": [
      "b\n",
      "l\n",
      "c\n",
      "k\n",
      "blackball\n"
     ]
    }
   ],
   "source": [
    "ball = 'black'\n",
    "for k in ball:\n",
    "    if k in ['s', 'a'] :\n",
    "        continue\n",
    "    print(k)\n",
    "print('blackball')"
   ]
  },
  {
   "cell_type": "code",
   "execution_count": null,
   "id": "38414b1d",
   "metadata": {},
   "outputs": [],
   "source": []
  }
 ],
 "metadata": {
  "kernelspec": {
   "display_name": "Python 3 (ipykernel)",
   "language": "python",
   "name": "python3"
  },
  "language_info": {
   "codemirror_mode": {
    "name": "ipython",
    "version": 3
   },
   "file_extension": ".py",
   "mimetype": "text/x-python",
   "name": "python",
   "nbconvert_exporter": "python",
   "pygments_lexer": "ipython3",
   "version": "3.8.17"
  }
 },
 "nbformat": 4,
 "nbformat_minor": 5
}
