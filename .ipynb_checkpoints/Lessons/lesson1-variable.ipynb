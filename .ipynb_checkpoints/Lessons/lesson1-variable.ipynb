{
 "cells": [
  {
   "cell_type": "code",
   "execution_count": 4,
   "id": "a927b8a3",
   "metadata": {},
   "outputs": [
    {
     "name": "stdout",
     "output_type": "stream",
     "text": [
      "The radius of a circle 7\n",
      "The area of a circle 153.86\n",
      "The circumference of a circle 43.96\n"
     ]
    }
   ],
   "source": [
    "PI = 3.14\n",
    "radius = 7 \n",
    "circum = PI * radius * radius\n",
    "area = 2.0 * PI * radius\n",
    "\n",
    "print('The radius of a circle', radius)\n",
    "print('The area of a circle', circum)\n",
    "print('The circumference of a circle', area)"
   ]
  },
  {
   "cell_type": "code",
   "execution_count": 5,
   "id": "5f7a1d84",
   "metadata": {},
   "outputs": [
    {
     "name": "stdout",
     "output_type": "stream",
     "text": [
      "Enter a positive integer: 51\n",
      "Enter another positive integer: 100\n",
      "The sum of all numbers from 51 to 100 is 3775\n"
     ]
    }
   ],
   "source": [
    "a = int(input(\"Enter a positive integer: \"))\n",
    "b = int(input(\"Enter another positive integer: \"))\n",
    "\n",
    "if a <= 0 or b <= 0 or a > 100 or b > 100:\n",
    "  print(\"Invalid input.\")\n",
    "  exit(1)\n",
    "\n",
    "sum = 0\n",
    "for i in range(a, b + 1):\n",
    "  sum += i\n",
    "\n",
    "print(\"The sum of all numbers from {} to {} is {}\".format(a, b, sum))\n"
   ]
  },
  {
   "cell_type": "code",
   "execution_count": 2,
   "id": "ab75e3d0",
   "metadata": {},
   "outputs": [
    {
     "name": "stdout",
     "output_type": "stream",
     "text": [
      "51 100\n",
      "3775\n"
     ]
    }
   ],
   "source": [
    "a, b = input().split()\n",
    "a, b = int(a), int(b)\n",
    "print(sum(range(a, b + 1)))"
   ]
  },
  {
   "cell_type": "code",
   "execution_count": null,
   "id": "1e7b194f",
   "metadata": {},
   "outputs": [],
   "source": [
    "n = int(input()) #78\n"
   ]
  },
  {
   "cell_type": "code",
   "execution_count": null,
   "id": "384ed086",
   "metadata": {},
   "outputs": [],
   "source": []
  },
  {
   "cell_type": "code",
   "execution_count": null,
   "id": "9953bda4",
   "metadata": {},
   "outputs": [],
   "source": []
  }
 ],
 "metadata": {
  "kernelspec": {
   "display_name": "Python 3 (ipykernel)",
   "language": "python",
   "name": "python3"
  },
  "language_info": {
   "codemirror_mode": {
    "name": "ipython",
    "version": 3
   },
   "file_extension": ".py",
   "mimetype": "text/x-python",
   "name": "python",
   "nbconvert_exporter": "python",
   "pygments_lexer": "ipython3",
   "version": "3.8.17"
  }
 },
 "nbformat": 4,
 "nbformat_minor": 5
}
