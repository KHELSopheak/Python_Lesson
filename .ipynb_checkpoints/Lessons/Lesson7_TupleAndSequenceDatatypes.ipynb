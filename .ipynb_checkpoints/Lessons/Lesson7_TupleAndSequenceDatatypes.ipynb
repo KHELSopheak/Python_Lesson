{
 "cells": [
  {
   "cell_type": "code",
   "execution_count": 11,
   "id": "605a28d5",
   "metadata": {},
   "outputs": [
    {
     "name": "stdout",
     "output_type": "stream",
     "text": [
      "The aging degrees of villages A nad B are 0.165 and 0.003 each\n"
     ]
    }
   ],
   "source": [
    "population_a = (100, 150, 230, 120, 180, 100, 140, 95, 81, 21, 4)\n",
    "population_b = (300, 420, 530, 420, 400, 300, 40, 5, 1, 1, 1)\n",
    "\n",
    "oldA = sum(population_a[7:])\n",
    "oldB = sum(population_b[7:])\n",
    "\n",
    "sumA, sumB = sum(population_a), sum(population_b)\n",
    "\n",
    "oldRateA, oldRateB = oldA / sumA, oldB / sumB\n",
    "\n",
    "print('The aging degrees of villages A nad B are {:5.3f} and {:5.3f} each'.format(oldRateA,oldRateB))"
   ]
  },
  {
   "cell_type": "code",
   "execution_count": null,
   "id": "66ddf430",
   "metadata": {},
   "outputs": [],
   "source": []
  }
 ],
 "metadata": {
  "kernelspec": {
   "display_name": "Python 3 (ipykernel)",
   "language": "python",
   "name": "python3"
  },
  "language_info": {
   "codemirror_mode": {
    "name": "ipython",
    "version": 3
   },
   "file_extension": ".py",
   "mimetype": "text/x-python",
   "name": "python",
   "nbconvert_exporter": "python",
   "pygments_lexer": "ipython3",
   "version": "3.8.17"
  }
 },
 "nbformat": 4,
 "nbformat_minor": 5
}
