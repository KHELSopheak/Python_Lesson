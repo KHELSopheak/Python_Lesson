{
 "cells": [
  {
   "cell_type": "code",
   "execution_count": 5,
   "id": "40a7c1f2",
   "metadata": {},
   "outputs": [
    {
     "name": "stdout",
     "output_type": "stream",
     "text": [
      "Americano: 3000"
     ]
    }
   ],
   "source": [
    "menu = ['Americano: ', 3000]\n",
    "for key in menu :\n",
    "    print(key, end='')"
   ]
  },
  {
   "cell_type": "code",
   "execution_count": null,
   "id": "5b5ab876",
   "metadata": {},
   "outputs": [],
   "source": []
  },
  {
   "cell_type": "code",
   "execution_count": 13,
   "id": "7161e47b",
   "metadata": {},
   "outputs": [
    {
     "name": "stdout",
     "output_type": "stream",
     "text": [
      "Sopheak 21\n",
      "{'name': 'Sopheak', 'age': 21, 'weight': 63, 'Devis': '010-1234-567'}\n"
     ]
    }
   ],
   "source": [
    "person = {'name':'Sopheak', 'age':21, 'weight':63}\n",
    "\n",
    "#addd item to dictionary\n",
    "person['Devis'] = '010-1234-567'\n",
    "\n",
    "#access value of dictionary\n",
    "print(person['name'],person['age'])\n",
    "\n",
    "#print all dictionary\n",
    "print(person)"
   ]
  },
  {
   "cell_type": "code",
   "execution_count": 21,
   "id": "ee35e35e",
   "metadata": {},
   "outputs": [
    {
     "name": "stdout",
     "output_type": "stream",
     "text": [
      "{'a': 10, 'b': 20, 'c': 30}\n",
      "delte dic a: 10\n",
      "{'b': 20, 'c': 30}\n"
     ]
    }
   ],
   "source": [
    "#pop methond\n",
    "dic = {'a':10, 'b':20, 'c': 30}\n",
    "print(dic)\n",
    "print('delte dic a:', dic.pop('a'))\n",
    "print(dic)"
   ]
  },
  {
   "cell_type": "code",
   "execution_count": 22,
   "id": "ffd77162",
   "metadata": {},
   "outputs": [
    {
     "name": "stdout",
     "output_type": "stream",
     "text": [
      "8\n"
     ]
    }
   ],
   "source": [
    "print(dic.pop('f',8))"
   ]
  },
  {
   "cell_type": "code",
   "execution_count": 27,
   "id": "8c84d7e3",
   "metadata": {},
   "outputs": [
    {
     "name": "stdout",
     "output_type": "stream",
     "text": [
      "{'a': 10, 'b': 20, 'c': 30}\n",
      "delete the last item and return to tuple() : ('c', 30)\n",
      "{'a': 10, 'b': 20}\n"
     ]
    }
   ],
   "source": [
    "dic = {'a':10, 'b':20, 'c': 30}\n",
    "print(dic)\n",
    "print('delete the last item and return to tuple() :', dic.popitem())\n",
    "print(dic)"
   ]
  },
  {
   "cell_type": "code",
   "execution_count": 29,
   "id": "dd7b1967",
   "metadata": {},
   "outputs": [
    {
     "name": "stdout",
     "output_type": "stream",
     "text": [
      "{'a': 10, 'b': 20, 'c': 30}\n",
      "clear delete al key:value in dic {}\n"
     ]
    }
   ],
   "source": [
    "dic = {'a':10, 'b':20, 'c': 30}\n",
    "print(dic)\n",
    "dic.clear()\n",
    "print('clear delete al key:value in dic', dic)"
   ]
  },
  {
   "cell_type": "code",
   "execution_count": 31,
   "id": "b90ae612",
   "metadata": {},
   "outputs": [
    {
     "name": "stdout",
     "output_type": "stream",
     "text": [
      "update a new key:value : {'a': 10, 'b': 20, 'c': 30, 'd': 50}\n"
     ]
    }
   ],
   "source": [
    "#Update method\n",
    "dic = {'a':10, 'b':20, 'c': 30}\n",
    "dic.update(d = 50)\n",
    "print('update a new key:value :', dic)"
   ]
  },
  {
   "cell_type": "code",
   "execution_count": 32,
   "id": "ef6d97b8",
   "metadata": {},
   "outputs": [
    {
     "name": "stdout",
     "output_type": "stream",
     "text": [
      "{'a': 100, 'b': 200, 'c': 30}\n"
     ]
    }
   ],
   "source": [
    "dic = {'a':10, 'b':20, 'c': 30}\n",
    "dic.update({'a': 100, 'b':200})\n",
    "print(dic)"
   ]
  },
  {
   "cell_type": "code",
   "execution_count": 35,
   "id": "4d915b73",
   "metadata": {},
   "outputs": [
    {
     "data": {
      "text/plain": [
       "20"
      ]
     },
     "execution_count": 35,
     "metadata": {},
     "output_type": "execute_result"
    }
   ],
   "source": [
    "#get method\n",
    "dic = {'a':10, 'b':20, 'c': 30}\n",
    "dic.get('b')"
   ]
  },
  {
   "cell_type": "code",
   "execution_count": 36,
   "id": "74b45d84",
   "metadata": {},
   "outputs": [
    {
     "data": {
      "text/plain": [
       "dict_keys(['a', 'b', 'c'])"
      ]
     },
     "execution_count": 36,
     "metadata": {},
     "output_type": "execute_result"
    }
   ],
   "source": [
    "#keys method\n",
    "dic = {'a':10, 'b':20, 'c': 30}\n",
    "dic.keys()\n"
   ]
  },
  {
   "cell_type": "code",
   "execution_count": 37,
   "id": "17e16a56",
   "metadata": {},
   "outputs": [
    {
     "data": {
      "text/plain": [
       "dict_values([10, 20, 30])"
      ]
     },
     "execution_count": 37,
     "metadata": {},
     "output_type": "execute_result"
    }
   ],
   "source": [
    "#values method\n",
    "dic = {'a':10, 'b':20, 'c': 30}\n",
    "dic.values()"
   ]
  },
  {
   "cell_type": "code",
   "execution_count": 40,
   "id": "a1ddb48d",
   "metadata": {},
   "outputs": [
    {
     "name": "stdout",
     "output_type": "stream",
     "text": [
      "a : 10\n",
      "b : 20\n",
      "c : 30\n"
     ]
    }
   ],
   "source": [
    "#items method\n",
    "dic = {'a':10, 'b':20, 'c': 30}\n",
    "dic.items()\n",
    "\n",
    "for str1, number in dic.items():\n",
    "    print(str1, ':', number)"
   ]
  },
  {
   "cell_type": "code",
   "execution_count": 3,
   "id": "d7f72bbe",
   "metadata": {},
   "outputs": [
    {
     "name": "stdout",
     "output_type": "stream",
     "text": [
      "Americano        Price : 3,000rial\n",
      "Iced Americano   Price : 4,000rial\n",
      "Cafe Latte       Price : 4,500rial\n",
      "Espresso         Price : 3,600rial\n",
      "dict_keys(['Americano', 'Iced Americano', 'Cafe Latte', 'Espresso'])\n"
     ]
    }
   ],
   "source": [
    "menu = {'Americano': 3000, 'Iced Americano': 4000, 'Cafe Latte': 4500, 'Espresso': 3600}\n",
    "\n",
    "for key in menu :\n",
    "    print(\"{:16s} Price : {:,}rial\".format(key, menu[key]))\n",
    "\n",
    "choice = input('Please choose on of the above menu:')\n",
    "\n",
    "if choice in menu.keys():\n",
    "    print('The price of {} is {:,}riel. Please pay the amount.'.format(choice, menu[choice]))\n",
    "else :\n",
    "    print('Sorry> {} is not in the menu'.format(choice))\n"
   ]
  },
  {
   "cell_type": "code",
   "execution_count": 6,
   "id": "ca32fae1",
   "metadata": {},
   "outputs": [
    {
     "name": "stdout",
     "output_type": "stream",
     "text": [
      "Americano\n",
      "Iced Americano\n",
      "Cafe Latte\n",
      "Espresso\n"
     ]
    }
   ],
   "source": [
    "menu = {'Americano': 3000, 'Iced Americano': 4000, 'Cafe Latte': 4500, 'Espresso': 3600}\n",
    "\n",
    "for k in menu.keys() :\n",
    "    print(k)"
   ]
  },
  {
   "cell_type": "code",
   "execution_count": 9,
   "id": "9afba10e",
   "metadata": {
    "scrolled": true
   },
   "outputs": [
    {
     "name": "stdout",
     "output_type": "stream",
     "text": [
      "The price of apple is 231 won.\n",
      "The price of banana is 2334 won.\n"
     ]
    }
   ],
   "source": [
    "fruit_dic = {'apple' : 231, 'banana' : 2334}\n",
    "print('The price of apple is', fruit_dic['apple'], 'won.')\n",
    "print('The price of banana is', fruit_dic['banana'], 'won.')"
   ]
  },
  {
   "cell_type": "markdown",
   "id": "bc18d6d1",
   "metadata": {},
   "source": [
    "## Json"
   ]
  },
  {
   "cell_type": "code",
   "execution_count": 13,
   "id": "778e61d5",
   "metadata": {},
   "outputs": [
    {
     "name": "stdout",
     "output_type": "stream",
     "text": [
      "<class 'dict'>\n",
      "Sopheak Khel\n",
      "{'fater': ' Pov SomAng', 'mother': 'Sem Sarem'}\n",
      "false\n"
     ]
    }
   ],
   "source": [
    "import json\n",
    "\n",
    "data = '{\"Name\" : \"Sopheak Khel\", \"Age\" : 25, \"Hobby\" : [\"basketball\"], \\\n",
    "\"Family\" : {\"fater\": \" Pov SomAng\", \"mother\" : \"Sem Sarem\"}, \"Married\" : \"false\"}'\n",
    "\n",
    "json_data = json.loads(data)\n",
    "\n",
    "print(type(json_data))\n",
    "print(json_data['Name'])\n",
    "print(json_data['Family'])\n",
    "print(json_data['Married'])"
   ]
  },
  {
   "cell_type": "code",
   "execution_count": 16,
   "id": "e2d633f3",
   "metadata": {},
   "outputs": [],
   "source": [
    "## Opening a Json file\n",
    "\n",
    "with open('book.json', 'w') as f :\n",
    "    pass"
   ]
  },
  {
   "cell_type": "code",
   "execution_count": 19,
   "id": "60b25b90",
   "metadata": {},
   "outputs": [],
   "source": [
    "import json \n",
    "\n",
    "data = '{\"title\" : \"The Old man and the Sea\", \"ISBN\" : \"12345\", \"Author\" : \"Ernest Hemingway\"}'\n",
    "json_data = json.loads(data)\n",
    "\n",
    "with open('book.json', 'w') as f :\n",
    "    json.dump(json_data, f, indent= '\\t')"
   ]
  },
  {
   "cell_type": "markdown",
   "id": "15cdf321",
   "metadata": {},
   "source": [
    "## How to use defaultdict data type"
   ]
  },
  {
   "cell_type": "code",
   "execution_count": 20,
   "id": "7769eca5",
   "metadata": {},
   "outputs": [],
   "source": [
    "from collections import defaultdict\n",
    "\n",
    "keys = ('a', 'b', 'c', 'd')\n",
    "y = dict.fromkeys(keys, 100)\n",
    "y = defaultdict(int)"
   ]
  },
  {
   "cell_type": "code",
   "execution_count": 23,
   "id": "08714eca",
   "metadata": {},
   "outputs": [
    {
     "data": {
      "text/plain": [
       "0"
      ]
     },
     "execution_count": 23,
     "metadata": {},
     "output_type": "execute_result"
    }
   ],
   "source": [
    "y['z']"
   ]
  },
  {
   "cell_type": "code",
   "execution_count": 25,
   "id": "020c4790",
   "metadata": {},
   "outputs": [
    {
     "data": {
      "text/plain": [
       "defaultdict(int, {'a': 5, 'b': 3, 's': 1, 'd': 1})"
      ]
     },
     "execution_count": 25,
     "metadata": {},
     "output_type": "execute_result"
    }
   ],
   "source": [
    "from collections import defaultdict\n",
    "\n",
    "word = 'aaabbbasda'\n",
    "counter = defaultdict(int)\n",
    "for letter in word :\n",
    "    counter[letter] += 1\n",
    "counter"
   ]
  },
  {
   "cell_type": "code",
   "execution_count": 28,
   "id": "c43af969",
   "metadata": {},
   "outputs": [
    {
     "data": {
      "text/plain": [
       "defaultdict(list, {})"
      ]
     },
     "execution_count": 28,
     "metadata": {},
     "output_type": "execute_result"
    }
   ],
   "source": [
    "list_dict = defaultdict(list)\n",
    "list_dict"
   ]
  }
 ],
 "metadata": {
  "kernelspec": {
   "display_name": "Python 3 (ipykernel)",
   "language": "python",
   "name": "python3"
  },
  "language_info": {
   "codemirror_mode": {
    "name": "ipython",
    "version": 3
   },
   "file_extension": ".py",
   "mimetype": "text/x-python",
   "name": "python",
   "nbconvert_exporter": "python",
   "pygments_lexer": "ipython3",
   "version": "3.8.17"
  }
 },
 "nbformat": 4,
 "nbformat_minor": 5
}
