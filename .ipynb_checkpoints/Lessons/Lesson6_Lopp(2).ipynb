{
 "cells": [
  {
   "cell_type": "code",
   "execution_count": 1,
   "id": "7a291d58",
   "metadata": {},
   "outputs": [
    {
     "name": "stdout",
     "output_type": "stream",
     "text": [
      "Jimin\n",
      "Joonkok\n",
      "V\n",
      "Suga\n",
      "Jin\n"
     ]
    }
   ],
   "source": [
    "bts = [ 'Jimin', 'Joonkok', 'V', 'Suga', 'Jin']\n",
    "for m in bts :\n",
    "    print(m)"
   ]
  },
  {
   "cell_type": "code",
   "execution_count": 2,
   "id": "e778e416",
   "metadata": {},
   "outputs": [
    {
     "name": "stdout",
     "output_type": "stream",
     "text": [
      "Please enter the of these PapaN, MamaN, BratherN>pas\n",
      "Please enter the of these PapaN, MamaN, BratherN>las\n",
      "Please enter the of these PapaN, MamaN, BratherN>sas\n",
      "Please enter the of these PapaN, MamaN, BratherN>PapaN\n",
      "The most fun name is : PapaN\n"
     ]
    }
   ],
   "source": [
    "selected = None \n",
    "while selected not in ['PapaN', 'MamaN', 'BratherN'] :\n",
    "    selected = input('Please enter the of these PapaN, MamaN, BratherN>')\n",
    "print('The most fun name is :', selected)"
   ]
  },
  {
   "cell_type": "code",
   "execution_count": 1,
   "id": "c5073d26",
   "metadata": {},
   "outputs": [
    {
     "name": "stdout",
     "output_type": "stream",
     "text": [
      "Has the construction been coompleted?yes\n",
      "You have escaped the loop\n"
     ]
    }
   ],
   "source": [
    "under_construction = True\n",
    "while under_construction :\n",
    "    response = input('Has the construction been coompleted?')\n",
    "    if response == 'yes' :\n",
    "        under_construction = False\n",
    "\n",
    "print(\"You have escaped the loop\")"
   ]
  },
  {
   "cell_type": "code",
   "execution_count": 2,
   "id": "ae9138d0",
   "metadata": {},
   "outputs": [
    {
     "name": "stdout",
     "output_type": "stream",
     "text": [
      "Enter passwordpap\n",
      "Enter passwordpapa\n",
      "Enter passwordIlovePython\n",
      "** Success Login **\n"
     ]
    }
   ],
   "source": [
    "password = ''\n",
    "while password != 'IlovePython' :\n",
    "    password = input(\"Enter password\")\n",
    "print(\"** Success Login **\")"
   ]
  },
  {
   "cell_type": "code",
   "execution_count": 5,
   "id": "0d4a29a7",
   "metadata": {},
   "outputs": [
    {
     "name": "stdout",
     "output_type": "stream",
     "text": [
      "Enter the number :12\n",
      "continue?(yes/no)>yes\n",
      "Enter the number :12\n",
      "continue?(yes/no)>no\n",
      "The sum is : 24\n"
     ]
    }
   ],
   "source": [
    "total = 0\n",
    "answer = 'yes'\n",
    "while answer == 'yes' :\n",
    "    number = int(input(\"Enter the number :\"))\n",
    "    total += number\n",
    "    answer = input('continue?(yes/no)>')\n",
    "\n",
    "print('The sum is :', total)"
   ]
  },
  {
   "cell_type": "code",
   "execution_count": 10,
   "id": "da0d0b79",
   "metadata": {},
   "outputs": [
    {
     "name": "stdout",
     "output_type": "stream",
     "text": [
      "p\n",
      "r\n",
      "The end\n"
     ]
    }
   ],
   "source": [
    "pr = 'programming'\n",
    "for ta in pr :\n",
    "    if ta in ['g', 'o', 'n', 'm']:\n",
    "        break\n",
    "    print(ta)\n",
    "print('The end')"
   ]
  },
  {
   "cell_type": "code",
   "execution_count": 11,
   "id": "244b762f",
   "metadata": {},
   "outputs": [
    {
     "name": "stdout",
     "output_type": "stream",
     "text": [
      "p\n",
      "o\n",
      "g\n",
      "a\n",
      "i\n",
      "g\n",
      "the end\n"
     ]
    }
   ],
   "source": [
    "pr = 'programming'\n",
    "for ta in pr :\n",
    "    if ta in ['r', 'm', 'n'] :\n",
    "        continue\n",
    "    print(ta)\n",
    "print('the end')"
   ]
  },
  {
   "cell_type": "code",
   "execution_count": null,
   "id": "2cf31f51",
   "metadata": {},
   "outputs": [],
   "source": []
  }
 ],
 "metadata": {
  "kernelspec": {
   "display_name": "Python 3 (ipykernel)",
   "language": "python",
   "name": "python3"
  },
  "language_info": {
   "codemirror_mode": {
    "name": "ipython",
    "version": 3
   },
   "file_extension": ".py",
   "mimetype": "text/x-python",
   "name": "python",
   "nbconvert_exporter": "python",
   "pygments_lexer": "ipython3",
   "version": "3.8.17"
  }
 },
 "nbformat": 4,
 "nbformat_minor": 5
}
