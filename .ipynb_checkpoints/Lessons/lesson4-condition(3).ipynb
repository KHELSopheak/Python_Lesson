{
 "cells": [
  {
   "cell_type": "code",
   "execution_count": 2,
   "id": "2bc23357",
   "metadata": {},
   "outputs": [
    {
     "name": "stdout",
     "output_type": "stream",
     "text": [
      "num =  100\n",
      "num =  200\n",
      "num =  300\n"
     ]
    }
   ],
   "source": [
    "num = 100\n",
    "print(\"num = \", num)\n",
    "num = num + 100\n",
    "print(\"num = \", num)\n",
    "num = num + 100 \n",
    "print(\"num = \", num)"
   ]
  },
  {
   "cell_type": "code",
   "execution_count": 1,
   "id": "15b6e8d6",
   "metadata": {},
   "outputs": [
    {
     "name": "stdout",
     "output_type": "stream",
     "text": [
      "Enter three lottory numbers: 1 2 3\n"
     ]
    }
   ],
   "source": [
    "a, b, c = input('Enter three lottory numbers:').split()\n",
    "\n",
    "a = int(a)\n",
    "b = int(b)\n",
    "c = int(c)\n"
   ]
  },
  {
   "cell_type": "code",
   "execution_count": 4,
   "id": "5cf69925",
   "metadata": {},
   "outputs": [
    {
     "name": "stdout",
     "output_type": "stream",
     "text": [
      "please enter three lottery number:4 6 8\n"
     ]
    }
   ],
   "source": [
    "num1, num2, num3 = 4, 6, 8\n",
    "\n",
    "num = 0\n",
    "\n",
    "x, y, z = input('please enter three lottery number:').split()\n",
    "x = int(x)\n",
    "y = int(y)\n",
    "z = int(z)\n",
    "\n",
    "if x == num1 or x == num2 or x == num3 :\n",
    "    num += 1\n",
    "if y == num1 or y == num2 or y == num3 :\n",
    "    num += 1 \n",
    "if z == num1 or z == num2 or z == num3 :\n",
    "    num += 1\n",
    "    \n",
    "if num == 4 :\n",
    "    print('You won!')"
   ]
  },
  {
   "cell_type": "code",
   "execution_count": 3,
   "id": "c5546647",
   "metadata": {},
   "outputs": [
    {
     "name": "stdout",
     "output_type": "stream",
     "text": [
      "Please enter three lottery numbers :  2 3 9\n",
      "You won the lottery!\n"
     ]
    }
   ],
   "source": [
    "n1, n2, n3 = 2, 3, 9\n",
    "\n",
    "n = 0\n",
    "a, b, c = input('Please enter three lottery numbers : ').split()\n",
    "\n",
    "a = int(a)\n",
    "b = int(b)\n",
    "c = int(c)\n",
    "\n",
    "if a == n1 or a == n2 or a == n3 :\n",
    "    n += 1\n",
    "if b == n1 or b == n2 or b == n3 :\n",
    "    n += 1\n",
    "if c == n1 or c == n2 or c == n3 :\n",
    "    n += 1\n",
    "\n",
    "if n == 3 :\n",
    "    print('You won the lottery!')"
   ]
  },
  {
   "cell_type": "code",
   "execution_count": null,
   "id": "58b2c758",
   "metadata": {},
   "outputs": [],
   "source": []
  }
 ],
 "metadata": {
  "kernelspec": {
   "display_name": "Python 3 (ipykernel)",
   "language": "python",
   "name": "python3"
  },
  "language_info": {
   "codemirror_mode": {
    "name": "ipython",
    "version": 3
   },
   "file_extension": ".py",
   "mimetype": "text/x-python",
   "name": "python",
   "nbconvert_exporter": "python",
   "pygments_lexer": "ipython3",
   "version": "3.8.17"
  }
 },
 "nbformat": 4,
 "nbformat_minor": 5
}
