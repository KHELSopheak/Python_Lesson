{
 "cells": [
  {
   "cell_type": "code",
   "execution_count": 10,
   "id": "b5cf4139",
   "metadata": {},
   "outputs": [
    {
     "name": "stdout",
     "output_type": "stream",
     "text": [
      "Enter your name: KHEL Sopheak\n",
      "Enter your height(cm): 176\n",
      "Enter your weight(kg): 63\n",
      "KHEL Sopheak 's BMI is 20.33832644628099\n"
     ]
    }
   ],
   "source": [
    "name = input(\"Enter your name: \")\n",
    "height_cm = int(input(\"Enter your height(cm): \"))\n",
    "height_m = height_cm / 100\n",
    "weight = int(input(\"Enter your weight(kg): \"))\n",
    "bmi = weight / (height_m ** 2)\n",
    "print(name, \"'s BMI is\", bmi)"
   ]
  },
  {
   "cell_type": "code",
   "execution_count": null,
   "id": "754b2e87",
   "metadata": {},
   "outputs": [],
   "source": []
  }
 ],
 "metadata": {
  "kernelspec": {
   "display_name": "Python 3 (ipykernel)",
   "language": "python",
   "name": "python3"
  },
  "language_info": {
   "codemirror_mode": {
    "name": "ipython",
    "version": 3
   },
   "file_extension": ".py",
   "mimetype": "text/x-python",
   "name": "python",
   "nbconvert_exporter": "python",
   "pygments_lexer": "ipython3",
   "version": "3.8.17"
  }
 },
 "nbformat": 4,
 "nbformat_minor": 5
}
