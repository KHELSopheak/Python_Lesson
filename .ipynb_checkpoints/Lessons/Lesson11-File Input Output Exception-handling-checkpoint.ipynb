{
 "cells": [
  {
   "cell_type": "code",
   "execution_count": 9,
   "id": "5f227425",
   "metadata": {},
   "outputs": [
    {
     "name": "stdout",
     "output_type": "stream",
     "text": [
      "Enter two number:100 0\n",
      "please check if the number are correct.\n"
     ]
    }
   ],
   "source": [
    "try :\n",
    "    a, b = input(\"Enter two number:\").split()\n",
    "    result = int(a) / int(b)\n",
    "    print('{} / {} = {}'.format(a, b, result))\n",
    "except :\n",
    "    print(\"please check if the number are correct.\")"
   ]
  },
  {
   "cell_type": "code",
   "execution_count": 10,
   "id": "8d58e956",
   "metadata": {},
   "outputs": [
    {
     "name": "stdout",
     "output_type": "stream",
     "text": [
      "Error division by zero\n"
     ]
    }
   ],
   "source": [
    "try :\n",
    "    b = 2 /0\n",
    "    a = 1 + 'hundred'\n",
    "except Exception as e :\n",
    "    print('Error', e)"
   ]
  },
  {
   "cell_type": "code",
   "execution_count": 15,
   "id": "f8389cce",
   "metadata": {},
   "outputs": [
    {
     "name": "stdout",
     "output_type": "stream",
     "text": [
      "Enter the radius :ther\n",
      "Invalid input. Please enter a number for the radius.\n",
      "Enter the radius :3\n",
      "The area of a circle with radius 3.0 is 28.26.\n"
     ]
    }
   ],
   "source": [
    "while True :\n",
    "    try :\n",
    "        radius = float(input(\"Enter the radius :\"))\n",
    "        area = 3.14 * (radius ** 2)\n",
    "        print(f\"The area of a circle with radius {radius} is {area}.\")\n",
    "        break\n",
    "    except ValueError :\n",
    "        print(\"Invalid input. Please enter a number for the radius.\")\n",
    "        "
   ]
  },
  {
   "cell_type": "code",
   "execution_count": 1,
   "id": "b6df8d28",
   "metadata": {},
   "outputs": [
    {
     "name": "stdout",
     "output_type": "stream",
     "text": [
      "Write to a file...\n",
      "\n",
      "Read from file: \n",
      "hello \n",
      "\n"
     ]
    }
   ],
   "source": [
    "# exercise Open function\n",
    "with open('hello.txt', 'a') as f:\n",
    "    print('Write to a file...')\n",
    "    f.write('hello \\n')\n",
    "print()\n",
    "with open('hello.txt', 'r') as f:\n",
    "    print('Read from file: ')\n",
    "    s = f.read()\n",
    "    print(s)"
   ]
  },
  {
   "cell_type": "code",
   "execution_count": 3,
   "id": "011d4a95",
   "metadata": {},
   "outputs": [],
   "source": [
    "f = open('hello.txt', 'w')\n",
    "f.write('hello word!')\n",
    "f.close()"
   ]
  },
  {
   "cell_type": "code",
   "execution_count": 4,
   "id": "f3a6667e",
   "metadata": {},
   "outputs": [
    {
     "name": "stdout",
     "output_type": "stream",
     "text": [
      "/Users/anbschool0018/LessonPython\n"
     ]
    }
   ],
   "source": [
    "import os \n",
    "cwd = os.getcwd()\n",
    "print(cwd)"
   ]
  },
  {
   "cell_type": "code",
   "execution_count": 5,
   "id": "cca5f0d3",
   "metadata": {},
   "outputs": [],
   "source": [
    "f = open('hello.txt', 'r+t')"
   ]
  },
  {
   "cell_type": "code",
   "execution_count": null,
   "id": "550459c6",
   "metadata": {},
   "outputs": [],
   "source": []
  },
  {
   "cell_type": "code",
   "execution_count": 8,
   "id": "0428c3f9",
   "metadata": {},
   "outputs": [
    {
     "name": "stdout",
     "output_type": "stream",
     "text": [
      "hello word!\n"
     ]
    }
   ],
   "source": [
    "# close method\n",
    "f = open('hello.txt', 'r')\n",
    "s = f.read()\n",
    "print(s)\n",
    "f.close()"
   ]
  }
 ],
 "metadata": {
  "kernelspec": {
   "display_name": "Python 3 (ipykernel)",
   "language": "python",
   "name": "python3"
  },
  "language_info": {
   "codemirror_mode": {
    "name": "ipython",
    "version": 3
   },
   "file_extension": ".py",
   "mimetype": "text/x-python",
   "name": "python",
   "nbconvert_exporter": "python",
   "pygments_lexer": "ipython3",
   "version": "3.8.17"
  }
 },
 "nbformat": 4,
 "nbformat_minor": 5
}
