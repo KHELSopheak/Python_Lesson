{
 "cells": [
  {
   "cell_type": "code",
   "execution_count": 19,
   "id": "b5a353f1",
   "metadata": {},
   "outputs": [
    {
     "name": "stdout",
     "output_type": "stream",
     "text": [
      "enter n :0\n",
      "true\n"
     ]
    }
   ],
   "source": [
    "n = int(input('enter n :'))\n",
    "\n",
    "if n in range(0, 11) :\n",
    "    print('true')\n",
    "else :\n",
    "    print('false')\n",
    "#print('n is :', n)"
   ]
  },
  {
   "cell_type": "code",
   "execution_count": null,
   "id": "6718715b",
   "metadata": {},
   "outputs": [],
   "source": []
  }
 ],
 "metadata": {
  "kernelspec": {
   "display_name": "Python 3 (ipykernel)",
   "language": "python",
   "name": "python3"
  },
  "language_info": {
   "codemirror_mode": {
    "name": "ipython",
    "version": 3
   },
   "file_extension": ".py",
   "mimetype": "text/x-python",
   "name": "python",
   "nbconvert_exporter": "python",
   "pygments_lexer": "ipython3",
   "version": "3.8.17"
  }
 },
 "nbformat": 4,
 "nbformat_minor": 5
}
