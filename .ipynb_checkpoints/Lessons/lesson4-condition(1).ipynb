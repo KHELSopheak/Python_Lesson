{
 "cells": [
  {
   "cell_type": "code",
   "execution_count": 1,
   "id": "a4ffbb99",
   "metadata": {},
   "outputs": [
    {
     "name": "stdout",
     "output_type": "stream",
     "text": [
      "What do you want to shoot(left, center, rigth): left\n",
      "Goal!\n",
      "Define position of computer : center\n"
     ]
    }
   ],
   "source": [
    "# A penalty shoot-out game.\n",
    "import random\n",
    "\n",
    "n = random.randint(1, 3)\n",
    "\n",
    "if n == 1 :\n",
    "    computer_choise = 'left'\n",
    "elif n == 2 :\n",
    "    computer_choise = 'center'\n",
    "else :\n",
    "    computer_choise = 'right'\n",
    "    \n",
    "user_choise = input(\"What do you want to shoot(left, center, rigth): \")\n",
    "\n",
    "if user_choise == computer_choise :\n",
    "    print(' NO goal!!!')\n",
    "else :\n",
    "    print('Goal!')\n",
    "\n",
    "print(\"Define position of computer :\", computer_choise)"
   ]
  },
  {
   "cell_type": "code",
   "execution_count": 3,
   "id": "be1c7e55",
   "metadata": {},
   "outputs": [
    {
     "name": "stdout",
     "output_type": "stream",
     "text": [
      "$$$$$$$$$$$$$$$$$$$$$$$$$$$$$$$$$$$$$$$$$$$$$$$$$$\n",
      "This is Sopheak's fruit shop.\n",
      "1: Applpe( Price : 12000 riel.)\n",
      "2: Grape( Price : 10000 riel)\n",
      "3: Melon( Price : 4000 riel)\n",
      "4: Orange( Price: 8000 riel)\n",
      "\n",
      "Please enter the number of the items(between 1 and 4) :2\n",
      "please enter the number of items (between 1 to 10) :2\n",
      "\n",
      "The fruit you choose : Grape\n",
      "The price that you selected fruit : 10000\n",
      "The number of you selected 2\n",
      "Total amount is 20000\n",
      "\n",
      "Please put the money(ex: 1200) :20000\n",
      "Well recieved, thank you!\n"
     ]
    }
   ],
   "source": [
    "print(\"$\"* 50)\n",
    "\n",
    "print(\"This is Sopheak's fruit shop.\")\n",
    "print(\"1: Applpe( Price : 12000 riel.)\")\n",
    "print(\"2: Grape( Price : 10000 riel)\")\n",
    "print(\"3: Melon( Price : 4000 riel)\")\n",
    "print(\"4: Orange( Price: 8000 riel)\")\n",
    "print()\n",
    "\n",
    "total_price = 0\n",
    "order = int(input(\"Please enter the number of the items(between 1 and 4) :\"))\n",
    "count = int(input(\"please enter the number of items (between 1 to 10) :\"))\n",
    "\n",
    "if order == 1 :\n",
    "    fruit = \"Apple\"\n",
    "    price = 12000\n",
    "elif order == 2 :\n",
    "    fruit = \"Grape\"\n",
    "    price = 10000\n",
    "elif order == 3 :\n",
    "    fruit = \"Melon\"\n",
    "    price = 4000\n",
    "else :\n",
    "    fruit = \"Orange\"\n",
    "    price = 8000\n",
    "print()    \n",
    "print(\"The fruit you choose :\", fruit)\n",
    "print(\"The price that you selected fruit :\", price)\n",
    "print(\"The number of you selected\", count)\n",
    "print(\"Total amount is\", count * price)\n",
    "print()\n",
    "money = int(input(\"Please put the money(ex: 1200) :\"))\n",
    "\n",
    "if money == count * price :\n",
    "    print(\"Well recieved, thank you!\")\n",
    "elif money < count * price :\n",
    "    print(\"excuse me that is not enough money :\")\n",
    "else :\n",
    "    change = money - count * price\n",
    "    print(\"Well recieved!\", money, \"and here is your change\",change)\n",
    "        \n",
    "\n",
    "    \n"
   ]
  },
  {
   "cell_type": "code",
   "execution_count": null,
   "id": "0a4656bd",
   "metadata": {},
   "outputs": [],
   "source": []
  }
 ],
 "metadata": {
  "kernelspec": {
   "display_name": "Python 3 (ipykernel)",
   "language": "python",
   "name": "python3"
  },
  "language_info": {
   "codemirror_mode": {
    "name": "ipython",
    "version": 3
   },
   "file_extension": ".py",
   "mimetype": "text/x-python",
   "name": "python",
   "nbconvert_exporter": "python",
   "pygments_lexer": "ipython3",
   "version": "3.8.17"
  }
 },
 "nbformat": 4,
 "nbformat_minor": 5
}
