{
 "cells": [
  {
   "cell_type": "code",
   "execution_count": 1,
   "id": "e1285e87",
   "metadata": {},
   "outputs": [
    {
     "name": "stdout",
     "output_type": "stream",
     "text": [
      "2\n"
     ]
    }
   ],
   "source": [
    "#Problem1\n",
    "prime_list = [2, 3, 4, 5, 6, 7, 8, 9, 10]\n",
    "print(prime_list[0])"
   ]
  },
  {
   "cell_type": "code",
   "execution_count": 5,
   "id": "53b12e49",
   "metadata": {},
   "outputs": [
    {
     "name": "stdout",
     "output_type": "stream",
     "text": [
      "2\n"
     ]
    }
   ],
   "source": [
    "#Problem1\n",
    "prime_list = list(range(2, 10))\n",
    "print(prime_list[0])"
   ]
  },
  {
   "cell_type": "code",
   "execution_count": 15,
   "id": "4baf2685",
   "metadata": {},
   "outputs": [
    {
     "name": "stdout",
     "output_type": "stream",
     "text": [
      "[1, 2, 3, 4, 5, 6, 7, 8, 9, 10, 11]\n"
     ]
    }
   ],
   "source": [
    "#Problem2\n",
    "prime_list = list(range(1, 11))\n",
    "prime_list.append(11)\n",
    "print(prime_list)"
   ]
  },
  {
   "cell_type": "code",
   "execution_count": 17,
   "id": "f8673b88",
   "metadata": {},
   "outputs": [
    {
     "name": "stdout",
     "output_type": "stream",
     "text": [
      "[1, 2, 3, 4, 5, 6, 7, 8, 9, 10, 11]\n"
     ]
    }
   ],
   "source": [
    "#Problem2\n",
    "prime_list = list(range(1,11))\n",
    "prime_list.insert(10, 11)\n",
    "print(prime_list)"
   ]
  },
  {
   "cell_type": "code",
   "execution_count": 20,
   "id": "77fd207f",
   "metadata": {},
   "outputs": [
    {
     "name": "stdout",
     "output_type": "stream",
     "text": [
      "[1, 2, 3, 4, 5, 6, 7, 8, 9, 10, 11]\n"
     ]
    }
   ],
   "source": [
    "#Problem2\n",
    "prime_list = list(range(1, 11))\n",
    "prime_list = prime_list + [11]\n",
    "print(prime_list)"
   ]
  },
  {
   "cell_type": "code",
   "execution_count": 22,
   "id": "bde75fc1",
   "metadata": {},
   "outputs": [
    {
     "name": "stdout",
     "output_type": "stream",
     "text": [
      "[3, 5, 7]\n"
     ]
    }
   ],
   "source": [
    "#problem3\n",
    "list = [3, 5, 7]\n",
    "print(list)"
   ]
  },
  {
   "cell_type": "code",
   "execution_count": 39,
   "id": "03bc048f",
   "metadata": {},
   "outputs": [
    {
     "name": "stdout",
     "output_type": "stream",
     "text": [
      "3 * 2 = 6\n",
      "3 * 3 = 9\n",
      "3 * 4 = 12\n",
      "3 * 5 = 15\n",
      "3 * 6 = 18\n",
      "\n",
      "5 * 2 = 10\n",
      "5 * 3 = 15\n",
      "5 * 4 = 20\n",
      "5 * 5 = 25\n",
      "5 * 6 = 30\n",
      "\n",
      "7 * 2 = 14\n",
      "7 * 3 = 21\n",
      "7 * 4 = 28\n",
      "7 * 5 = 35\n",
      "7 * 6 = 42\n",
      "\n"
     ]
    }
   ],
   "source": [
    "#Problem3\n",
    "list1 = [3, 5, 7]\n",
    "list2 = [2, 3, 4, 5, 6]\n",
    "\n",
    "for i in list1 :\n",
    "    for j in list2 :\n",
    "        print(i, \"*\", j, \"=\", i*j)\n",
    "    print()\n"
   ]
  },
  {
   "cell_type": "code",
   "execution_count": 1,
   "id": "818fcebd",
   "metadata": {},
   "outputs": [
    {
     "name": "stdout",
     "output_type": "stream",
     "text": [
      "3 * 2 = 6\n",
      "3 * 3 = 9\n",
      "3 * 4 = 12\n",
      "3 * 5 = 15\n",
      "3 * 6 = 18\n",
      "\n",
      "4 * 2 = 8\n",
      "4 * 3 = 12\n",
      "4 * 4 = 16\n",
      "4 * 5 = 20\n",
      "4 * 6 = 24\n",
      "\n",
      "5 * 2 = 10\n",
      "5 * 3 = 15\n",
      "5 * 4 = 20\n",
      "5 * 5 = 25\n",
      "5 * 6 = 30\n",
      "\n"
     ]
    }
   ],
   "source": [
    " \n",
    "for i in range(3, 6):\n",
    "\n",
    "    for j in range(2, 7):\n",
    "        print(i, \"*\", j, \"=\", i*j)\n",
    "    print()"
   ]
  },
  {
   "cell_type": "code",
   "execution_count": null,
   "id": "9125f2e5",
   "metadata": {},
   "outputs": [],
   "source": []
  }
 ],
 "metadata": {
  "kernelspec": {
   "display_name": "Python 3 (ipykernel)",
   "language": "python",
   "name": "python3"
  },
  "language_info": {
   "codemirror_mode": {
    "name": "ipython",
    "version": 3
   },
   "file_extension": ".py",
   "mimetype": "text/x-python",
   "name": "python",
   "nbconvert_exporter": "python",
   "pygments_lexer": "ipython3",
   "version": "3.8.17"
  }
 },
 "nbformat": 4,
 "nbformat_minor": 5
}
