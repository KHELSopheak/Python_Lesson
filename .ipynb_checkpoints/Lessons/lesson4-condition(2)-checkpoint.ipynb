{
 "cells": [
  {
   "cell_type": "code",
   "execution_count": 4,
   "id": "11431772",
   "metadata": {},
   "outputs": [
    {
     "name": "stdout",
     "output_type": "stream",
     "text": [
      "22\n"
     ]
    }
   ],
   "source": [
    "age = 22 \n",
    "if age < 20 :\n",
    "    pass\n",
    "print (age)"
   ]
  },
  {
   "cell_type": "code",
   "execution_count": 8,
   "id": "9191de0b",
   "metadata": {},
   "outputs": [
    {
     "name": "stdout",
     "output_type": "stream",
     "text": [
      "Enter your id:valid123@$\n",
      " Your id is correct\n"
     ]
    }
   ],
   "source": [
    "user_id = 'valid123@$'\n",
    "s = input('Enter your id:')\n",
    "if s == user_id :\n",
    "    print(' Your id is correct')"
   ]
  }
 ],
 "metadata": {
  "kernelspec": {
   "display_name": "Python 3 (ipykernel)",
   "language": "python",
   "name": "python3"
  },
  "language_info": {
   "codemirror_mode": {
    "name": "ipython",
    "version": 3
   },
   "file_extension": ".py",
   "mimetype": "text/x-python",
   "name": "python",
   "nbconvert_exporter": "python",
   "pygments_lexer": "ipython3",
   "version": "3.8.17"
  }
 },
 "nbformat": 4,
 "nbformat_minor": 5
}
