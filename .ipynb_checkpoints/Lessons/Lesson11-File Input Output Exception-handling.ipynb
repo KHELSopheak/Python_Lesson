{
 "cells": [
  {
   "cell_type": "code",
   "execution_count": 9,
   "id": "5f227425",
   "metadata": {},
   "outputs": [
    {
     "name": "stdout",
     "output_type": "stream",
     "text": [
      "Enter two number:100 0\n",
      "please check if the number are correct.\n"
     ]
    }
   ],
   "source": [
    "try :\n",
    "    a, b = input(\"Enter two number:\").split()\n",
    "    result = int(a) / int(b)\n",
    "    print('{} / {} = {}'.format(a, b, result))\n",
    "except :\n",
    "    print(\"please check if the number are correct.\")"
   ]
  },
  {
   "cell_type": "code",
   "execution_count": 10,
   "id": "8d58e956",
   "metadata": {},
   "outputs": [
    {
     "name": "stdout",
     "output_type": "stream",
     "text": [
      "Error division by zero\n"
     ]
    }
   ],
   "source": [
    "try :\n",
    "    b = 2 /0\n",
    "    a = 1 + 'hundred'\n",
    "except Exception as e :\n",
    "    print('Error', e)"
   ]
  },
  {
   "cell_type": "markdown",
   "id": "ed755808",
   "metadata": {},
   "source": [
    "## paper coding"
   ]
  },
  {
   "cell_type": "code",
   "execution_count": 16,
   "id": "8129f2c2",
   "metadata": {},
   "outputs": [
    {
     "name": "stdout",
     "output_type": "stream",
     "text": [
      "10\n",
      "20\n",
      "Exception occored : Unable to convert X to an integer\n",
      "30\n",
      "40\n",
      "50\n",
      "Exception occored : Unable to convert ABC to an integer\n"
     ]
    }
   ],
   "source": [
    "list = [\"10\", \"20\", \"X\", \"30\", \"40\", \"50\", \"ABC\"]\n",
    "\n",
    "for i in list :\n",
    "    try :\n",
    "        i = int(i)\n",
    "        print(i)\n",
    "    except ValueError:\n",
    "        print(f'Exception occored : Unable to convert {i} to an integer')\n",
    "\n",
    "        "
   ]
  },
  {
   "cell_type": "code",
   "execution_count": 15,
   "id": "f8389cce",
   "metadata": {},
   "outputs": [
    {
     "name": "stdout",
     "output_type": "stream",
     "text": [
      "Enter the radius :ther\n",
      "Invalid input. Please enter a number for the radius.\n",
      "Enter the radius :3\n",
      "The area of a circle with radius 3.0 is 28.26.\n"
     ]
    }
   ],
   "source": [
    "while True :\n",
    "    try :\n",
    "        radius = float(input(\"Enter the radius :\"))\n",
    "        area = 3.14 * (radius ** 2)\n",
    "        print(f\"The area of a circle with radius {radius} is {area}.\")\n",
    "        break\n",
    "    except ValueError :\n",
    "        print(\"Invalid input. Please enter a number for the radius.\")\n",
    "        "
   ]
  },
  {
   "cell_type": "code",
   "execution_count": 1,
   "id": "4d9ccf19",
   "metadata": {},
   "outputs": [
    {
     "name": "stdout",
     "output_type": "stream",
     "text": [
      "Write to a file...\n",
      "\n",
      "Read from file: \n",
      "hello \n",
      "\n"
     ]
    }
   ],
   "source": [
    "# exercise Open function\n",
    "with open('hello.txt', 'a') as f:\n",
    "    print('Write to a file...')\n",
    "    f.write('hello \\n')\n",
    "print()\n",
    "with open('hello.txt', 'r') as f:\n",
    "    print('Read from file: ')\n",
    "    s = f.read()\n",
    "    print(s)"
   ]
  },
  {
   "cell_type": "code",
   "execution_count": 3,
   "id": "bd65876a",
   "metadata": {},
   "outputs": [],
   "source": [
    "f = open('hello.txt', 'w')\n",
    "f.write('hello word!')\n",
    "f.close()"
   ]
  },
  {
   "cell_type": "code",
   "execution_count": 4,
   "id": "35cd939d",
   "metadata": {},
   "outputs": [
    {
     "name": "stdout",
     "output_type": "stream",
     "text": [
      "/Users/anbschool0018/LessonPython\n"
     ]
    }
   ],
   "source": [
    "import os \n",
    "cwd = os.getcwd()\n",
    "print(cwd)"
   ]
  },
  {
   "cell_type": "code",
   "execution_count": 5,
   "id": "81c32d59",
   "metadata": {},
   "outputs": [],
   "source": [
    "f = open('hello.txt', 'r+t')"
   ]
  },
  {
   "cell_type": "code",
   "execution_count": 14,
   "id": "103df974",
   "metadata": {},
   "outputs": [
    {
     "name": "stdout",
     "output_type": "stream",
     "text": [
      "hello word!\n"
     ]
    }
   ],
   "source": [
    "# close method\n",
    "f = open('hello.txt', 'r')\n",
    "s = f.read()\n",
    "print(s)\n",
    "f.close()\n"
   ]
  },
  {
   "cell_type": "code",
   "execution_count": 21,
   "id": "cd3c63e8",
   "metadata": {},
   "outputs": [
    {
     "name": "stdout",
     "output_type": "stream",
     "text": [
      "hello word!"
     ]
    }
   ],
   "source": [
    "f = open('hello.txt', 'r')\n",
    "s = f.readline()\n",
    "print(s, end=\"\")\n",
    "s = f.readline()\n",
    "print(s, end=\"\")\n",
    "f.close()"
   ]
  },
  {
   "cell_type": "code",
   "execution_count": 22,
   "id": "2f7f94aa",
   "metadata": {},
   "outputs": [],
   "source": [
    "f = open('hello.txt', 'a+')\n",
    "f.write('This will append.\\n')\n",
    "f.write('This too.\\n')\n",
    "f.close()"
   ]
  },
  {
   "cell_type": "code",
   "execution_count": 24,
   "id": "9fec6a89",
   "metadata": {},
   "outputs": [
    {
     "name": "stdout",
     "output_type": "stream",
     "text": [
      "hello word!This will append.\n",
      "This too.\n",
      "\n"
     ]
    }
   ],
   "source": [
    "f = open('hello.txt', 'r')\n",
    "s = f.read()\n",
    "print(s)\n",
    "f.close()"
   ]
  },
  {
   "cell_type": "code",
   "execution_count": 28,
   "id": "901a5ac9",
   "metadata": {},
   "outputs": [
    {
     "name": "stdout",
     "output_type": "stream",
     "text": [
      "Enter a integer:12\n",
      "Enter a integer:323\n",
      "Enter a integer:4323\n",
      "Enter a integer:456467\n",
      "Enter a integer:56758\n"
     ]
    }
   ],
   "source": [
    "f = open('data5.txt', 'w')\n",
    "for _ in range(5) :\n",
    "    n = input('Enter a integer:')\n",
    "    f.write(n)\n",
    "    f.write('\\n')\n",
    "f.close()"
   ]
  },
  {
   "cell_type": "code",
   "execution_count": 32,
   "id": "0f0ac5aa",
   "metadata": {},
   "outputs": [
    {
     "name": "stdout",
     "output_type": "stream",
     "text": [
      "The sum of five number = 517883, average = 103576.6\n"
     ]
    }
   ],
   "source": [
    "f = open('data5.txt', 'r')\n",
    "su = 0\n",
    "for _ in range(5) :\n",
    "    n = int(f.readline())\n",
    "    su += n\n",
    "print('The sum of five number = {}, average = {}'.format(su, su/5))\n",
    "f.close()"
   ]
  },
  {
   "cell_type": "code",
   "execution_count": 49,
   "id": "193f0e1e",
   "metadata": {},
   "outputs": [
    {
     "name": "stdout",
     "output_type": "stream",
     "text": [
      "Write to a file...\n",
      "\n",
      "Reading a file\n",
      "hello word!This will append.\n",
      "This too.\n",
      "hello Kon PaPa.\n",
      "hello Kon PaPa.\n",
      "hello Kon PaPa.\n",
      "hello Kon PaPa.\n",
      "hello Kon PaPa.\n",
      "hello Kon PaPa.\n",
      "hello Kon PaPa.\n",
      "hello Kon PaPa.\n",
      "hello Kon PaPa.\n",
      "hello \n",
      "hello Kon PaPa.\n",
      "hello \n",
      "hello Kon PaPa.\n",
      "hello \n",
      "hello Kon PaPa.\n",
      "\n"
     ]
    }
   ],
   "source": [
    "# with-as statement\n",
    "with open('hello.txt', 'a') as f :\n",
    "    print('Write to a file...')\n",
    "    f.write('hello Kon PaPa.\\n')\n",
    "print()\n",
    "with open('hello.txt', 'r') as f :\n",
    "    print('Reading a file')\n",
    "    s = f.read()\n",
    "    print(s)\n"
   ]
  },
  {
   "cell_type": "code",
   "execution_count": 47,
   "id": "209edd39",
   "metadata": {},
   "outputs": [
    {
     "name": "stdout",
     "output_type": "stream",
     "text": [
      "Write to a file...\n",
      "\n",
      "Read from file: \n",
      "hello word!This will append.\n",
      "This too.\n",
      "hello Kon PaPa.\n",
      "hello Kon PaPa.\n",
      "hello Kon PaPa.\n",
      "hello Kon PaPa.\n",
      "hello Kon PaPa.\n",
      "hello Kon PaPa.\n",
      "hello Kon PaPa.\n",
      "hello Kon PaPa.\n",
      "hello Kon PaPa.\n",
      "hello \n",
      "hello Kon PaPa.\n",
      "hello \n",
      "hello Kon PaPa.\n",
      "hello \n",
      "\n"
     ]
    }
   ],
   "source": [
    "# exercise Open function\n",
    "with open('hello.txt', 'a') as f:\n",
    "    print('Write to a file...')\n",
    "    f.write('hello \\n')\n",
    "print()\n",
    "with open('hello.txt', 'r') as f:\n",
    "    print('Read from file: ')\n",
    "    s = f.read()\n",
    "    print(s)\n",
    "f.close()"
   ]
  }
 ],
 "metadata": {
  "kernelspec": {
   "display_name": "Python 3 (ipykernel)",
   "language": "python",
   "name": "python3"
  },
  "language_info": {
   "codemirror_mode": {
    "name": "ipython",
    "version": 3
   },
   "file_extension": ".py",
   "mimetype": "text/x-python",
   "name": "python",
   "nbconvert_exporter": "python",
   "pygments_lexer": "ipython3",
   "version": "3.8.17"
  }
 },
 "nbformat": 4,
 "nbformat_minor": 5
}
