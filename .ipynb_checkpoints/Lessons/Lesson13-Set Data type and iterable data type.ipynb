{
 "cells": [
  {
   "cell_type": "markdown",
   "id": "2bbd0211",
   "metadata": {},
   "source": [
    "# Main keyword"
   ]
  },
  {
   "cell_type": "markdown",
   "id": "2e248828",
   "metadata": {},
   "source": [
    "## 1.Iterable"
   ]
  },
  {
   "cell_type": "code",
   "execution_count": 1,
   "id": "01a4fb95",
   "metadata": {},
   "outputs": [
    {
     "ename": "TypeError",
     "evalue": "'int' object is not iterable",
     "output_type": "error",
     "traceback": [
      "\u001b[0;31m---------------------------------------------------------------------------\u001b[0m",
      "\u001b[0;31mTypeError\u001b[0m                                 Traceback (most recent call last)",
      "Cell \u001b[0;32mIn[1], line 2\u001b[0m\n\u001b[1;32m      1\u001b[0m n \u001b[38;5;241m=\u001b[39m \u001b[38;5;241m100\u001b[39m\n\u001b[0;32m----> 2\u001b[0m n_iter \u001b[38;5;241m=\u001b[39m \u001b[38;5;28;43miter\u001b[39;49m\u001b[43m(\u001b[49m\u001b[43mn\u001b[49m\u001b[43m)\u001b[49m\n",
      "\u001b[0;31mTypeError\u001b[0m: 'int' object is not iterable"
     ]
    }
   ],
   "source": [
    "n = 100\n",
    "n_iter = iter(n)"
   ]
  },
  {
   "cell_type": "code",
   "execution_count": 2,
   "id": "7d661015",
   "metadata": {},
   "outputs": [
    {
     "name": "stdout",
     "output_type": "stream",
     "text": [
      "Number is not iterable data type.\n"
     ]
    }
   ],
   "source": [
    "# Checking if it's an iterable data type\n",
    "\n",
    "try:\n",
    "    n = 100\n",
    "    iterator = iter(n)\n",
    "except TypeError:\n",
    "    print('Number is not iterable data type.')\n",
    "else:\n",
    "    print('Number is iterable data type.')"
   ]
  },
  {
   "cell_type": "code",
   "execution_count": 4,
   "id": "c3d02c9c",
   "metadata": {},
   "outputs": [
    {
     "name": "stdout",
     "output_type": "stream",
     "text": [
      "list1 is iterable data type.\n",
      "Please fine the solution.\n"
     ]
    }
   ],
   "source": [
    "try:\n",
    "    list1 = [12, 32, 45]\n",
    "    iterator = iter(list1)\n",
    "except TypeError:\n",
    "    print('list1 is not iterable data type.')\n",
    "else:\n",
    "    print('list1 is iterable data type.')\n",
    "finally:\n",
    "    print('Please fine the solution.')"
   ]
  },
  {
   "cell_type": "code",
   "execution_count": 15,
   "id": "00d2340b",
   "metadata": {},
   "outputs": [],
   "source": [
    "# Build-in function that take iterable data types as parameters \n",
    "\n",
    "l1 = [1, 2, 3, 3]\n",
    "li2= [0, 6, 7, 7]\n",
    "li3= [9, 0, 1, 8]"
   ]
  },
  {
   "cell_type": "code",
   "execution_count": 16,
   "id": "4a0e7e27",
   "metadata": {},
   "outputs": [
    {
     "data": {
      "text/plain": [
       "True"
      ]
     },
     "execution_count": 16,
     "metadata": {},
     "output_type": "execute_result"
    }
   ],
   "source": [
    "all(l1)"
   ]
  },
  {
   "cell_type": "code",
   "execution_count": 14,
   "id": "92160756",
   "metadata": {},
   "outputs": [
    {
     "data": {
      "text/plain": [
       "False"
      ]
     },
     "execution_count": 14,
     "metadata": {},
     "output_type": "execute_result"
    }
   ],
   "source": [
    "all(li2)"
   ]
  },
  {
   "cell_type": "code",
   "execution_count": 10,
   "id": "ce14e008",
   "metadata": {},
   "outputs": [
    {
     "data": {
      "text/plain": [
       "False"
      ]
     },
     "execution_count": 10,
     "metadata": {},
     "output_type": "execute_result"
    }
   ],
   "source": [
    "all(li3)"
   ]
  },
  {
   "cell_type": "code",
   "execution_count": 17,
   "id": "6913eca7",
   "metadata": {},
   "outputs": [],
   "source": [
    "# The iter function and the next function"
   ]
  },
  {
   "cell_type": "code",
   "execution_count": 20,
   "id": "64c55a11",
   "metadata": {},
   "outputs": [
    {
     "data": {
      "text/plain": [
       "12"
      ]
     },
     "execution_count": 20,
     "metadata": {},
     "output_type": "execute_result"
    }
   ],
   "source": [
    "iter_a = iter([12, 323, 453])\n",
    "next(iter_a) # first index (element) selected and then continue to the next index."
   ]
  },
  {
   "cell_type": "code",
   "execution_count": 23,
   "id": "2d261c09",
   "metadata": {},
   "outputs": [
    {
     "ename": "TypeError",
     "evalue": "'list' object is not an iterator",
     "output_type": "error",
     "traceback": [
      "\u001b[0;31m---------------------------------------------------------------------------\u001b[0m",
      "\u001b[0;31mTypeError\u001b[0m                                 Traceback (most recent call last)",
      "Cell \u001b[0;32mIn[23], line 3\u001b[0m\n\u001b[1;32m      1\u001b[0m \u001b[38;5;66;03m# Error\u001b[39;00m\n\u001b[1;32m      2\u001b[0m l1 \u001b[38;5;241m=\u001b[39m [\u001b[38;5;241m12\u001b[39m, \u001b[38;5;241m34\u001b[39m, \u001b[38;5;241m45\u001b[39m]\n\u001b[0;32m----> 3\u001b[0m \u001b[38;5;28;43mnext\u001b[39;49m\u001b[43m(\u001b[49m\u001b[43ml1\u001b[49m\u001b[43m)\u001b[49m\n",
      "\u001b[0;31mTypeError\u001b[0m: 'list' object is not an iterator"
     ]
    }
   ],
   "source": [
    "# Error\n",
    "l1 = [12, 34, 45]\n",
    "next(l1)"
   ]
  },
  {
   "cell_type": "code",
   "execution_count": 25,
   "id": "b52d4a19",
   "metadata": {},
   "outputs": [
    {
     "data": {
      "text/plain": [
       "12"
      ]
     },
     "execution_count": 25,
     "metadata": {},
     "output_type": "execute_result"
    }
   ],
   "source": [
    "list1 = [12, 23]\n",
    "iterator = iter(list1)\n",
    "next(iterator)\n",
    "# type(iterator)"
   ]
  },
  {
   "cell_type": "markdown",
   "id": "e793ae90",
   "metadata": {},
   "source": [
    "## Set, Collection of unordered objects"
   ]
  },
  {
   "cell_type": "markdown",
   "id": "56dec4e2",
   "metadata": {},
   "source": [
    "## Defining a set"
   ]
  },
  {
   "cell_type": "code",
   "execution_count": 27,
   "id": "157f95ec",
   "metadata": {},
   "outputs": [],
   "source": [
    "# Createing an empty set : \n",
    "sert0 = set()\n",
    "\n",
    "# Creating a basic set :\n",
    "set1 = {1, 2, 3, 4}\n",
    "\n",
    "# Creating a set from a tuple \n",
    "n_tuple = (1, 3, 5, 7)\n",
    "set2 = set(n_tuple)\n",
    "\n",
    "# Creating a set from a list :\n",
    "n_list = [2, 4, 6, 8]\n",
    "set3 = set(n_list)"
   ]
  },
  {
   "cell_type": "code",
   "execution_count": 35,
   "id": "056d207a",
   "metadata": {},
   "outputs": [
    {
     "data": {
      "text/plain": [
       "{1, 3, 4, 6}"
      ]
     },
     "execution_count": 35,
     "metadata": {},
     "output_type": "execute_result"
    }
   ],
   "source": [
    "set([1, 3, 4, 6, 3, 6, ])"
   ]
  },
  {
   "cell_type": "code",
   "execution_count": 36,
   "id": "eb5904ce",
   "metadata": {},
   "outputs": [
    {
     "data": {
      "text/plain": [
       "{'a', 'd', 'f', 'g', 'h'}"
      ]
     },
     "execution_count": 36,
     "metadata": {},
     "output_type": "execute_result"
    }
   ],
   "source": [
    "set(\"adafdgh\")"
   ]
  },
  {
   "cell_type": "code",
   "execution_count": 37,
   "id": "4ab7a117",
   "metadata": {},
   "outputs": [
    {
     "data": {
      "text/plain": [
       "{'!', 'E', 'H', 'L', 'O'}"
      ]
     },
     "execution_count": 37,
     "metadata": {},
     "output_type": "execute_result"
    }
   ],
   "source": [
    "h_str = 'HELLO!'\n",
    "set_str = set(h_str)\n",
    "set_str"
   ]
  },
  {
   "cell_type": "code",
   "execution_count": 34,
   "id": "2a21c269",
   "metadata": {},
   "outputs": [
    {
     "data": {
      "text/plain": [
       "{'apple', 'orange', 'water melon'}"
      ]
     },
     "execution_count": 34,
     "metadata": {},
     "output_type": "execute_result"
    }
   ],
   "source": [
    "days_list = ['Monday', 'Tue', 'Wed', 'Thu', 'Fri', 'Sat', 'Sun']\n",
    "days_set = set(days_list)\n",
    "days_set\n",
    "# output : {'Monday', 'Tue', 'Wed', 'Thu', 'Fri', 'Sat', 'Sun'}\n",
    "\n",
    "fruits_tuple = ('apple', 'orange', 'water melon')\n",
    "fruits_set = set(fruits_tuple)\n",
    "fruits_set"
   ]
  },
  {
   "cell_type": "markdown",
   "id": "7b74017a",
   "metadata": {},
   "source": [
    "## Menbership operators for searching specific elements: in, not in "
   ]
  },
  {
   "cell_type": "code",
   "execution_count": 38,
   "id": "1b432ab7",
   "metadata": {},
   "outputs": [
    {
     "name": "stdout",
     "output_type": "stream",
     "text": [
      "1 in set\n"
     ]
    }
   ],
   "source": [
    "numbers = {2, 1, 333}\n",
    "if 1 in numbers :\n",
    "    print(\"1 in set\")"
   ]
  },
  {
   "cell_type": "code",
   "execution_count": 39,
   "id": "8578082c",
   "metadata": {},
   "outputs": [
    {
     "name": "stdout",
     "output_type": "stream",
     "text": [
      "Not 7 in set\n"
     ]
    }
   ],
   "source": [
    "numbers = {1, 2, 444}\n",
    "if 9 not in numbers :\n",
    "    print('Not 7 in set')"
   ]
  },
  {
   "cell_type": "markdown",
   "id": "431bd7e3",
   "metadata": {},
   "source": [
    "## Accessing sets usinf loops with iterable data type"
   ]
  },
  {
   "cell_type": "code",
   "execution_count": 43,
   "id": "123ce0fd",
   "metadata": {},
   "outputs": [
    {
     "name": "stdout",
     "output_type": "stream",
     "text": [
      "32 212 545 "
     ]
    }
   ],
   "source": [
    "numbers = {212, 32, 545}\n",
    "# for i in number :\n",
    "#     print(i, end = \" \")\n",
    "for i in sorted(numbers) :\n",
    "    print(i, end = \" \")"
   ]
  },
  {
   "cell_type": "code",
   "execution_count": 45,
   "id": "3a9788d0",
   "metadata": {},
   "outputs": [
    {
     "data": {
      "text/plain": [
       "{'A', 'e', 'l', 'p'}"
      ]
     },
     "execution_count": 45,
     "metadata": {},
     "output_type": "execute_result"
    }
   ],
   "source": [
    "# Using One-liner loop expression\n",
    "\n",
    "a = {i for i in 'Apple'}\n",
    "a"
   ]
  },
  {
   "cell_type": "code",
   "execution_count": 46,
   "id": "44aad70a",
   "metadata": {},
   "outputs": [
    {
     "data": {
      "text/plain": [
       "{'T', 'c', 'e', 'h', 'n'}"
      ]
     },
     "execution_count": 46,
     "metadata": {},
     "output_type": "execute_result"
    }
   ],
   "source": [
    "a = {i for i in 'Technology' if i not in 'logy'}\n",
    "a"
   ]
  },
  {
   "cell_type": "markdown",
   "id": "c0e35dee",
   "metadata": {},
   "source": [
    "## Built- in function that take a set as a parameter"
   ]
  },
  {
   "cell_type": "markdown",
   "id": "4fb5d60e",
   "metadata": {},
   "source": [
    "Function such as : len, max, min, stored, and sum can be used for sets as well."
   ]
  },
  {
   "cell_type": "code",
   "execution_count": 50,
   "id": "63a0582d",
   "metadata": {},
   "outputs": [
    {
     "data": {
      "text/plain": [
       "(False, True)"
      ]
     },
     "execution_count": 50,
     "metadata": {},
     "output_type": "execute_result"
    }
   ],
   "source": [
    "a_set = {1231, 0, 21, 4404}\n",
    "all(a_set), any(a_set)"
   ]
  },
  {
   "cell_type": "markdown",
   "id": "8ec580b9",
   "metadata": {},
   "source": [
    "## Set Operator and Method"
   ]
  },
  {
   "cell_type": "markdown",
   "id": "c030a94f",
   "metadata": {},
   "source": [
    "Different operator and method"
   ]
  },
  {
   "cell_type": "code",
   "execution_count": 57,
   "id": "4f99e6ff",
   "metadata": {},
   "outputs": [],
   "source": [
    "# set operator :\n",
    "s1 = {1, 2, 3, 4, 5, 56}\n",
    "s2 = {4, 5,  6, 6, 7, 8, 8, 9}"
   ]
  },
  {
   "cell_type": "code",
   "execution_count": 58,
   "id": "f9466240",
   "metadata": {},
   "outputs": [
    {
     "data": {
      "text/plain": [
       "{1, 2, 3, 4, 5, 6, 7, 8, 9, 56}"
      ]
     },
     "execution_count": 58,
     "metadata": {},
     "output_type": "execute_result"
    }
   ],
   "source": [
    "s1 | s2"
   ]
  },
  {
   "cell_type": "code",
   "execution_count": 59,
   "id": "3dc61ed9",
   "metadata": {},
   "outputs": [
    {
     "data": {
      "text/plain": [
       "{4, 5}"
      ]
     },
     "execution_count": 59,
     "metadata": {},
     "output_type": "execute_result"
    }
   ],
   "source": [
    "s1 & s2"
   ]
  },
  {
   "cell_type": "code",
   "execution_count": 60,
   "id": "9439dda4",
   "metadata": {},
   "outputs": [
    {
     "data": {
      "text/plain": [
       "{1, 2, 3, 56}"
      ]
     },
     "execution_count": 60,
     "metadata": {},
     "output_type": "execute_result"
    }
   ],
   "source": [
    "s1 - s2"
   ]
  },
  {
   "cell_type": "code",
   "execution_count": 61,
   "id": "498ba81e",
   "metadata": {},
   "outputs": [
    {
     "data": {
      "text/plain": [
       "{1, 2, 3, 6, 7, 8, 9, 56}"
      ]
     },
     "execution_count": 61,
     "metadata": {},
     "output_type": "execute_result"
    }
   ],
   "source": [
    "s1 ^ s2"
   ]
  },
  {
   "cell_type": "code",
   "execution_count": null,
   "id": "cf3dabd8",
   "metadata": {},
   "outputs": [],
   "source": [
    "# Set method\n",
    "\n",
    "s1 = {1, 2, 3, 4, 5, 56}\n",
    "s2 = {4, 5,  6, 6, 7, 8, 8, 9}"
   ]
  },
  {
   "cell_type": "code",
   "execution_count": 62,
   "id": "780f1db7",
   "metadata": {},
   "outputs": [
    {
     "data": {
      "text/plain": [
       "{1, 2, 3, 4, 5, 6, 7, 8, 9, 56}"
      ]
     },
     "execution_count": 62,
     "metadata": {},
     "output_type": "execute_result"
    }
   ],
   "source": [
    "s1.union(s2)"
   ]
  },
  {
   "cell_type": "code",
   "execution_count": 63,
   "id": "fcd06190",
   "metadata": {},
   "outputs": [
    {
     "data": {
      "text/plain": [
       "{4, 5}"
      ]
     },
     "execution_count": 63,
     "metadata": {},
     "output_type": "execute_result"
    }
   ],
   "source": [
    "s1.intersection(s2)"
   ]
  },
  {
   "cell_type": "code",
   "execution_count": 64,
   "id": "f0499243",
   "metadata": {},
   "outputs": [
    {
     "data": {
      "text/plain": [
       "{1, 2, 3, 56}"
      ]
     },
     "execution_count": 64,
     "metadata": {},
     "output_type": "execute_result"
    }
   ],
   "source": [
    "s1.difference(s2)"
   ]
  },
  {
   "cell_type": "code",
   "execution_count": 65,
   "id": "d8c41a04",
   "metadata": {},
   "outputs": [
    {
     "data": {
      "text/plain": [
       "{1, 2, 3, 6, 7, 8, 9, 56}"
      ]
     },
     "execution_count": 65,
     "metadata": {},
     "output_type": "execute_result"
    }
   ],
   "source": [
    "s1.symmetric_difference(s2)"
   ]
  },
  {
   "cell_type": "markdown",
   "id": "87773374",
   "metadata": {},
   "source": [
    "## Using sequential operators"
   ]
  },
  {
   "cell_type": "code",
   "execution_count": 67,
   "id": "06d588ca",
   "metadata": {},
   "outputs": [],
   "source": [
    "s1 = {1, 2, 3, 4, 5, 56}\n",
    "s2 = {4, 5,  6, 6, 7, 8, 8, 9}\n",
    "s3 = {4, 5, 6, 7, 123, 346}"
   ]
  },
  {
   "cell_type": "code",
   "execution_count": 68,
   "id": "28f2237c",
   "metadata": {},
   "outputs": [
    {
     "data": {
      "text/plain": [
       "{4, 5}"
      ]
     },
     "execution_count": 68,
     "metadata": {},
     "output_type": "execute_result"
    }
   ],
   "source": [
    "s1 & s2 & s3"
   ]
  },
  {
   "cell_type": "code",
   "execution_count": 69,
   "id": "cdd762a4",
   "metadata": {},
   "outputs": [
    {
     "data": {
      "text/plain": [
       "{4, 5}"
      ]
     },
     "execution_count": 69,
     "metadata": {},
     "output_type": "execute_result"
    }
   ],
   "source": [
    "s1.intersection(s2, s3)"
   ]
  },
  {
   "cell_type": "markdown",
   "id": "c9875108",
   "metadata": {},
   "source": [
    "### Various method of sets"
   ]
  },
  {
   "cell_type": "code",
   "execution_count": null,
   "id": "1263f00b",
   "metadata": {},
   "outputs": [],
   "source": [
    "add()\n",
    "discard()\n",
    "clear\n",
    "union()\n",
    "difference()\n",
    "intersection()\n",
    "symmetric_difference()\n",
    "issubset()\n",
    "issuperset()\n",
    "isdisjoint()"
   ]
  },
  {
   "cell_type": "markdown",
   "id": "19a1d15c",
   "metadata": {},
   "source": [
    "## supset method and superset method"
   ]
  },
  {
   "cell_type": "code",
   "execution_count": 71,
   "id": "2bac5dbc",
   "metadata": {},
   "outputs": [],
   "source": [
    "# Subset : if every element of set A belongs to another set B, then A is subset of B.\n",
    "\n",
    "## A = {1, 2}, B = {1, 2, 3}, A is a subset of B\n",
    "\n",
    "A = {1, 2, 3, 4, 5}\n",
    "B = {1, 2, 3}\n",
    "C = {1, 2, 6}"
   ]
  },
  {
   "cell_type": "code",
   "execution_count": 76,
   "id": "2f02cdec",
   "metadata": {},
   "outputs": [
    {
     "data": {
      "text/plain": [
       "True"
      ]
     },
     "execution_count": 76,
     "metadata": {},
     "output_type": "execute_result"
    }
   ],
   "source": [
    "B.issubset(A)"
   ]
  },
  {
   "cell_type": "code",
   "execution_count": 77,
   "id": "e63076a9",
   "metadata": {},
   "outputs": [
    {
     "data": {
      "text/plain": [
       "False"
      ]
     },
     "execution_count": 77,
     "metadata": {},
     "output_type": "execute_result"
    }
   ],
   "source": [
    "C.issubset(A)"
   ]
  },
  {
   "cell_type": "code",
   "execution_count": 78,
   "id": "231d2d52",
   "metadata": {},
   "outputs": [
    {
     "data": {
      "text/plain": [
       "False"
      ]
     },
     "execution_count": 78,
     "metadata": {},
     "output_type": "execute_result"
    }
   ],
   "source": [
    "A.issuperset(C)"
   ]
  },
  {
   "cell_type": "code",
   "execution_count": 79,
   "id": "6e828c97",
   "metadata": {},
   "outputs": [
    {
     "data": {
      "text/plain": [
       "True"
      ]
     },
     "execution_count": 79,
     "metadata": {},
     "output_type": "execute_result"
    }
   ],
   "source": [
    "A.issuperset(B)"
   ]
  },
  {
   "cell_type": "markdown",
   "id": "48826004",
   "metadata": {},
   "source": [
    "### Disjoint Method"
   ]
  },
  {
   "cell_type": "code",
   "execution_count": 84,
   "id": "6a7195be",
   "metadata": {},
   "outputs": [
    {
     "data": {
      "text/plain": [
       "True"
      ]
     },
     "execution_count": 84,
     "metadata": {},
     "output_type": "execute_result"
    }
   ],
   "source": [
    "B = {1, 2, 3}\n",
    "C = {11, 22, 66}\n",
    "B.isdisjoint(C)"
   ]
  },
  {
   "cell_type": "markdown",
   "id": "1da0f2d0",
   "metadata": {},
   "source": [
    "### Cartesian product or cartesian multiplication example"
   ]
  },
  {
   "cell_type": "code",
   "execution_count": 86,
   "id": "0d9fab2c",
   "metadata": {},
   "outputs": [
    {
     "name": "stdout",
     "output_type": "stream",
     "text": [
      "B = {1, 3}\n",
      "C = {2, 4}\n",
      "BxC = {(3, 2), (1, 2), (3, 4), (1, 4)}\n"
     ]
    }
   ],
   "source": [
    "B = {1, 3}\n",
    "C = {2, 4}\n",
    "res = set()\n",
    "for i in B :\n",
    "    for j in C :\n",
    "        res = res | {(i, j)}\n",
    "BxC = res\n",
    "print(\"B =\", B)\n",
    "print(\"C =\", C)\n",
    "print(\"BxC =\", BxC)"
   ]
  },
  {
   "cell_type": "code",
   "execution_count": 88,
   "id": "c3c2dac6",
   "metadata": {},
   "outputs": [
    {
     "name": "stdout",
     "output_type": "stream",
     "text": [
      "Proper divisor of 20  : [2, 4, 5, 10]\n"
     ]
    }
   ],
   "source": [
    "# Example of finding divisors and greatest common divisor of two numbers\n",
    "\n",
    "num = 20\n",
    "divisor = []\n",
    "\n",
    "for i in range(2, num) :\n",
    "    if num % i == 0 :\n",
    "        divisor.append(i)\n",
    "    \n",
    "print(\"Proper divisor of\", num, \" :\", divisor)"
   ]
  },
  {
   "cell_type": "code",
   "execution_count": 92,
   "id": "785c7ebe",
   "metadata": {},
   "outputs": [
    {
     "name": "stdout",
     "output_type": "stream",
     "text": [
      "proper divisor of 48  : {2, 3, 4, 6, 8, 12, 16, 24}\n",
      "Proper divisor of : 60  : {2, 3, 4, 5, 6, 10, 12, 15, 20, 30}\n"
     ]
    }
   ],
   "source": [
    "num1 = 48\n",
    "divisor1 = set()\n",
    "\n",
    "for i in range(2, num1) :\n",
    "    if num1 % i == 0 :\n",
    "        divisor1.add(i)\n",
    "print(\"proper divisor of\", num1, \" :\", divisor1)\n",
    "\n",
    "num2 = 60 \n",
    "divisor2 = set()\n",
    "\n",
    "for i in range(2, num2) :\n",
    "    if num2 % i == 0:\n",
    "        divisor2.add(i)\n",
    "print(\"Proper divisor of :\", num2, \" :\", divisor2)"
   ]
  },
  {
   "cell_type": "code",
   "execution_count": 94,
   "id": "d85acff8",
   "metadata": {},
   "outputs": [
    {
     "name": "stdout",
     "output_type": "stream",
     "text": [
      "{2, 3, 4, 6, 12}\n",
      "The Common factor of 48 60  : 12\n"
     ]
    }
   ],
   "source": [
    "print(divisor1.intersection(divisor2))\n",
    "print(\"The Common factor of\", num1, num2, \" :\", max(divisor1.intersection(divisor2)))"
   ]
  },
  {
   "cell_type": "markdown",
   "id": "31cb23bb",
   "metadata": {},
   "source": [
    "## Aggregation using the zip function"
   ]
  },
  {
   "cell_type": "code",
   "execution_count": 97,
   "id": "63f20922",
   "metadata": {},
   "outputs": [
    {
     "data": {
      "text/plain": [
       "set()"
      ]
     },
     "execution_count": 97,
     "metadata": {},
     "output_type": "execute_result"
    }
   ],
   "source": [
    "# Iterable data types as parameters of zip function \n",
    "\n",
    "empty_iterator = zip()\n",
    "result = set(empty_iterator)\n",
    "result"
   ]
  },
  {
   "cell_type": "code",
   "execution_count": 99,
   "id": "a5c55587",
   "metadata": {},
   "outputs": [
    {
     "name": "stdout",
     "output_type": "stream",
     "text": [
      "(10, 'ten')\n",
      "(20, 'twenty')\n",
      "(30, 'thirty')\n"
     ]
    }
   ],
   "source": [
    "a = [10, 20, 30]\n",
    "b = ('ten', 'twenty', 'thirty')\n",
    "\n",
    "for val in zip(a, b):\n",
    "    print(val)"
   ]
  },
  {
   "cell_type": "code",
   "execution_count": 101,
   "id": "e43dfa8e",
   "metadata": {},
   "outputs": [
    {
     "name": "stdout",
     "output_type": "stream",
     "text": [
      "[('hello', 1, 400), ('world', 2, 500), ('python', 3, 600)]\n"
     ]
    }
   ],
   "source": [
    "str_list = ['hello', 'world', 'python', 'rocks']\n",
    "int_tuple = (1, 2, 3)\n",
    "int_list = [400, 500, 600, 700, 800]\n",
    "\n",
    "my_iterator = zip(str_list, int_tuple, int_list)\n",
    "print(list(my_iterator))"
   ]
  },
  {
   "cell_type": "code",
   "execution_count": 104,
   "id": "4ab62c05",
   "metadata": {},
   "outputs": [
    {
     "name": "stdout",
     "output_type": "stream",
     "text": [
      "('hello', 'world', 'python')\n",
      "(1, 2, 3)\n",
      "(400, 500, 600)\n"
     ]
    }
   ],
   "source": [
    "zip_list = list(zip(str_list, int_tuple, int_list))\n",
    "a, b, c = zip(*zip_list)\n",
    "print(a)\n",
    "print(b)\n",
    "print(c)"
   ]
  },
  {
   "cell_type": "code",
   "execution_count": 102,
   "id": "6e0db884",
   "metadata": {},
   "outputs": [
    {
     "name": "stdout",
     "output_type": "stream",
     "text": [
      "{('hello',), ('b',), ('this',), ('a',)}\n"
     ]
    }
   ],
   "source": [
    "list_str = ['a', 'b', 'hello', 'this']\n",
    "my_iterator = zip(list_str)\n",
    "result = set(my_iterator)\n",
    "print(result)"
   ]
  }
 ],
 "metadata": {
  "kernelspec": {
   "display_name": "Python 3 (ipykernel)",
   "language": "python",
   "name": "python3"
  },
  "language_info": {
   "codemirror_mode": {
    "name": "ipython",
    "version": 3
   },
   "file_extension": ".py",
   "mimetype": "text/x-python",
   "name": "python",
   "nbconvert_exporter": "python",
   "pygments_lexer": "ipython3",
   "version": "3.8.17"
  }
 },
 "nbformat": 4,
 "nbformat_minor": 5
}
