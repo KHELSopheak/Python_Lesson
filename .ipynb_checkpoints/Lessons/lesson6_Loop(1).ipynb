{
 "cells": [
  {
   "cell_type": "code",
   "execution_count": 2,
   "id": "19db095f",
   "metadata": {},
   "outputs": [
    {
     "name": "stdout",
     "output_type": "stream",
     "text": [
      "Rye bread + Meatball + Lettuce + Mayonaise\n",
      "Rye bread + Meatball + Lettuce + Honey mustard\n",
      "Rye bread + Meatball + Lettuce + Chili sauce\n",
      "Rye bread + Meatball + Tomato + Mayonaise\n",
      "Rye bread + Meatball + Tomato + Honey mustard\n",
      "Rye bread + Meatball + Tomato + Chili sauce\n",
      "Rye bread + Meatball + Cucumber + Mayonaise\n",
      "Rye bread + Meatball + Cucumber + Honey mustard\n",
      "Rye bread + Meatball + Cucumber + Chili sauce\n",
      "Rye bread + Sausages + Lettuce + Mayonaise\n",
      "Rye bread + Sausages + Lettuce + Honey mustard\n",
      "Rye bread + Sausages + Lettuce + Chili sauce\n",
      "Rye bread + Sausages + Tomato + Mayonaise\n",
      "Rye bread + Sausages + Tomato + Honey mustard\n",
      "Rye bread + Sausages + Tomato + Chili sauce\n",
      "Rye bread + Sausages + Cucumber + Mayonaise\n",
      "Rye bread + Sausages + Cucumber + Honey mustard\n",
      "Rye bread + Sausages + Cucumber + Chili sauce\n",
      "Rye bread + Chicken breast + Lettuce + Mayonaise\n",
      "Rye bread + Chicken breast + Lettuce + Honey mustard\n",
      "Rye bread + Chicken breast + Lettuce + Chili sauce\n",
      "Rye bread + Chicken breast + Tomato + Mayonaise\n",
      "Rye bread + Chicken breast + Tomato + Honey mustard\n",
      "Rye bread + Chicken breast + Tomato + Chili sauce\n",
      "Rye bread + Chicken breast + Cucumber + Mayonaise\n",
      "Rye bread + Chicken breast + Cucumber + Honey mustard\n",
      "Rye bread + Chicken breast + Cucumber + Chili sauce\n",
      "Wheat + Meatball + Lettuce + Mayonaise\n",
      "Wheat + Meatball + Lettuce + Honey mustard\n",
      "Wheat + Meatball + Lettuce + Chili sauce\n",
      "Wheat + Meatball + Tomato + Mayonaise\n",
      "Wheat + Meatball + Tomato + Honey mustard\n",
      "Wheat + Meatball + Tomato + Chili sauce\n",
      "Wheat + Meatball + Cucumber + Mayonaise\n",
      "Wheat + Meatball + Cucumber + Honey mustard\n",
      "Wheat + Meatball + Cucumber + Chili sauce\n",
      "Wheat + Sausages + Lettuce + Mayonaise\n",
      "Wheat + Sausages + Lettuce + Honey mustard\n",
      "Wheat + Sausages + Lettuce + Chili sauce\n",
      "Wheat + Sausages + Tomato + Mayonaise\n",
      "Wheat + Sausages + Tomato + Honey mustard\n",
      "Wheat + Sausages + Tomato + Chili sauce\n",
      "Wheat + Sausages + Cucumber + Mayonaise\n",
      "Wheat + Sausages + Cucumber + Honey mustard\n",
      "Wheat + Sausages + Cucumber + Chili sauce\n",
      "Wheat + Chicken breast + Lettuce + Mayonaise\n",
      "Wheat + Chicken breast + Lettuce + Honey mustard\n",
      "Wheat + Chicken breast + Lettuce + Chili sauce\n",
      "Wheat + Chicken breast + Tomato + Mayonaise\n",
      "Wheat + Chicken breast + Tomato + Honey mustard\n",
      "Wheat + Chicken breast + Tomato + Chili sauce\n",
      "Wheat + Chicken breast + Cucumber + Mayonaise\n",
      "Wheat + Chicken breast + Cucumber + Honey mustard\n",
      "Wheat + Chicken breast + Cucumber + Chili sauce\n",
      "white + Meatball + Lettuce + Mayonaise\n",
      "white + Meatball + Lettuce + Honey mustard\n",
      "white + Meatball + Lettuce + Chili sauce\n",
      "white + Meatball + Tomato + Mayonaise\n",
      "white + Meatball + Tomato + Honey mustard\n",
      "white + Meatball + Tomato + Chili sauce\n",
      "white + Meatball + Cucumber + Mayonaise\n",
      "white + Meatball + Cucumber + Honey mustard\n",
      "white + Meatball + Cucumber + Chili sauce\n",
      "white + Sausages + Lettuce + Mayonaise\n",
      "white + Sausages + Lettuce + Honey mustard\n",
      "white + Sausages + Lettuce + Chili sauce\n",
      "white + Sausages + Tomato + Mayonaise\n",
      "white + Sausages + Tomato + Honey mustard\n",
      "white + Sausages + Tomato + Chili sauce\n",
      "white + Sausages + Cucumber + Mayonaise\n",
      "white + Sausages + Cucumber + Honey mustard\n",
      "white + Sausages + Cucumber + Chili sauce\n",
      "white + Chicken breast + Lettuce + Mayonaise\n",
      "white + Chicken breast + Lettuce + Honey mustard\n",
      "white + Chicken breast + Lettuce + Chili sauce\n",
      "white + Chicken breast + Tomato + Mayonaise\n",
      "white + Chicken breast + Tomato + Honey mustard\n",
      "white + Chicken breast + Tomato + Chili sauce\n",
      "white + Chicken breast + Cucumber + Mayonaise\n",
      "white + Chicken breast + Cucumber + Honey mustard\n",
      "white + Chicken breast + Cucumber + Chili sauce\n"
     ]
    }
   ],
   "source": [
    "bread = ['Rye bread', 'Wheat', 'white']\n",
    "meat = ['Meatball', 'Sausages', 'Chicken breast']\n",
    "vegatable = ['Lettuce', 'Tomato', 'Cucumber']\n",
    "sauce = ['Mayonaise', 'Honey mustard', 'Chili sauce']\n",
    "\n",
    "for b in bread :\n",
    "    for m in meat :\n",
    "        for v in vegatable :\n",
    "            for s in sauce :\n",
    "                print(b + \" + \" + m + \" + \" + v + \" + \" + s)"
   ]
  },
  {
   "cell_type": "code",
   "execution_count": 2,
   "id": "34f86969",
   "metadata": {},
   "outputs": [
    {
     "name": "stdout",
     "output_type": "stream",
     "text": [
      "HellLo Python"
     ]
    }
   ],
   "source": [
    "for ch in 'Hello Python' :\n",
    "    print(ch, end = '')"
   ]
  },
  {
   "cell_type": "code",
   "execution_count": 10,
   "id": "535b439b",
   "metadata": {},
   "outputs": [
    {
     "name": "stdout",
     "output_type": "stream",
     "text": [
      "My name is : Devith.\n"
     ]
    }
   ],
   "source": [
    "print(\"My name is\", end = \" : \")\n",
    "print(\"Devith.\")"
   ]
  },
  {
   "cell_type": "code",
   "execution_count": 6,
   "id": "1b53b9c7",
   "metadata": {},
   "outputs": [
    {
     "name": "stdout",
     "output_type": "stream",
     "text": [
      "2x1 =  2,2x2 =  4,2x3 =  6,2x4 =  8,2x5 = 10,2x6 = 12,2x7 = 14,2x8 = 16,2x9 = 18,\n",
      "3x1 =  3,3x2 =  6,3x3 =  9,3x4 = 12,3x5 = 15,3x6 = 18,3x7 = 21,3x8 = 24,3x9 = 27,\n",
      "4x1 =  4,4x2 =  8,4x3 = 12,4x4 = 16,4x5 = 20,4x6 = 24,4x7 = 28,4x8 = 32,4x9 = 36,\n",
      "5x1 =  5,5x2 = 10,5x3 = 15,5x4 = 20,5x5 = 25,5x6 = 30,5x7 = 35,5x8 = 40,5x9 = 45,\n",
      "6x1 =  6,6x2 = 12,6x3 = 18,6x4 = 24,6x5 = 30,6x6 = 36,6x7 = 42,6x8 = 48,6x9 = 54,\n",
      "7x1 =  7,7x2 = 14,7x3 = 21,7x4 = 28,7x5 = 35,7x6 = 42,7x7 = 49,7x8 = 56,7x9 = 63,\n",
      "8x1 =  8,8x2 = 16,8x3 = 24,8x4 = 32,8x5 = 40,8x6 = 48,8x7 = 56,8x8 = 64,8x9 = 72,\n"
     ]
    }
   ],
   "source": [
    "#nested loop\n",
    "for i in range(2, 9) :\n",
    "    for j in range(1, 10) :\n",
    "        print('{}x{} = {:2d},'.format(i, j, i*j), end = '')\n",
    "    print()"
   ]
  },
  {
   "cell_type": "code",
   "execution_count": null,
   "id": "97eb1c9c",
   "metadata": {},
   "outputs": [],
   "source": []
  }
 ],
 "metadata": {
  "kernelspec": {
   "display_name": "Python 3 (ipykernel)",
   "language": "python",
   "name": "python3"
  },
  "language_info": {
   "codemirror_mode": {
    "name": "ipython",
    "version": 3
   },
   "file_extension": ".py",
   "mimetype": "text/x-python",
   "name": "python",
   "nbconvert_exporter": "python",
   "pygments_lexer": "ipython3",
   "version": "3.8.17"
  }
 },
 "nbformat": 4,
 "nbformat_minor": 5
}
