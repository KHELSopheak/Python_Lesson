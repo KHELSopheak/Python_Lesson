{
 "cells": [
  {
   "cell_type": "code",
   "execution_count": 3,
   "id": "f86dad61",
   "metadata": {},
   "outputs": [
    {
     "name": "stdout",
     "output_type": "stream",
     "text": [
      "Please enter the year: 16\n",
      "True\n"
     ]
    }
   ],
   "source": [
    "year = int(input(\"Please enter the year: \"))\n",
    "leap_year = (year % 4 == 0 and year % 100 != 0) or year % 400 == 0\n",
    "print(leap_year)"
   ]
  },
  {
   "cell_type": "code",
   "execution_count": null,
   "id": "af4dcdf5",
   "metadata": {},
   "outputs": [],
   "source": [
    "print(bool(1))\n",
    "print(bool(0))\n",
    "print(bool(''))\n",
    "print()"
   ]
  },
  {
   "cell_type": "code",
   "execution_count": null,
   "id": "0c4973a2",
   "metadata": {},
   "outputs": [],
   "source": [
    "n = int(input('d ='))\n",
    "if n % 2 !=0 :\n",
    "    print('true')\n",
    "else :\n",
    "    print('false')\n",
    "print(n)"
   ]
  },
  {
   "cell_type": "code",
   "execution_count": null,
   "id": "41f9d0a4",
   "metadata": {},
   "outputs": [],
   "source": []
  }
 ],
 "metadata": {
  "kernelspec": {
   "display_name": "Python 3 (ipykernel)",
   "language": "python",
   "name": "python3"
  },
  "language_info": {
   "codemirror_mode": {
    "name": "ipython",
    "version": 3
   },
   "file_extension": ".py",
   "mimetype": "text/x-python",
   "name": "python",
   "nbconvert_exporter": "python",
   "pygments_lexer": "ipython3",
   "version": "3.8.17"
  }
 },
 "nbformat": 4,
 "nbformat_minor": 5
}
