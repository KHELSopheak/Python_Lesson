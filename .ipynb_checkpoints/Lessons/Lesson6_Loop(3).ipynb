{
 "cells": [
  {
   "cell_type": "code",
   "execution_count": 3,
   "id": "f3bfcd96",
   "metadata": {},
   "outputs": [
    {
     "name": "stdout",
     "output_type": "stream",
     "text": [
      "day : 2 position of snail : 3 m\n",
      "day : 3 position of snail : 4 m\n",
      "day : 4 position of snail : 5 m\n",
      "day : 5 position of snail : 6 m\n",
      "day : 6 position of snail : 7 m\n",
      "day : 7 position of snail : 8 m\n",
      "day : 8 position of snail : 9 m\n",
      "day : 9 position of snail : 10 m\n",
      "day : 10 position of snail : 11 m\n",
      "day : 11 position of snail : 12 m\n",
      "day : 12 position of snail : 13 m\n",
      "day : 13 position of snail : 14 m\n",
      "day : 14 position of snail : 15 m\n",
      "day : 15 position of snail : 16 m\n",
      "day : 16 position of snail : 17 m\n",
      "day : 17 position of snail : 18 m\n",
      "day : 18 position of snail : 19 m\n",
      "day : 19 position of snail : 20 m\n",
      "day : 20 position of snail : 21 m\n",
      "day : 21 position of snail : 22 m\n",
      "day : 22 position of snail : 23 m\n",
      "day : 23 position of snail : 24 m\n",
      "day : 24 position of snail : 25 m\n",
      "day : 25 position of snail : 26 m\n",
      "day : 26 position of snail : 27 m\n",
      "day : 27 position of snail : 28 m\n",
      "day : 28 position of snail : 29 m\n",
      "day : 29 position of snail : 30 m\n",
      "\n",
      "It took 29 days to escape the well.\n"
     ]
    }
   ],
   "source": [
    "current_pos = 0 \n",
    "days = 1\n",
    "move_up = 3 \n",
    "move_down = 2\n",
    "destination = 30\n",
    "\n",
    "while True :\n",
    "    current_pos += move_up\n",
    "    days += 1\n",
    "    print('day :', days, 'position of snail :', current_pos, 'm')\n",
    "    if current_pos >= destination :\n",
    "        break\n",
    "    current_pos -= move_down\n",
    "print()\n",
    "print('It took {} days to escape the well.'.format(days))"
   ]
  },
  {
   "cell_type": "code",
   "execution_count": 5,
   "id": "0f3a1328",
   "metadata": {},
   "outputs": [
    {
     "name": "stdout",
     "output_type": "stream",
     "text": [
      "4310071360\n"
     ]
    }
   ],
   "source": [
    "n = 100\n",
    "m = n\n",
    "print(id(m))"
   ]
  },
  {
   "cell_type": "code",
   "execution_count": 5,
   "id": "e4162b8a",
   "metadata": {},
   "outputs": [
    {
     "name": "stdout",
     "output_type": "stream",
     "text": [
      "Larva family\n",
      "Larva family\n",
      "Larva family\n",
      "Larva family\n",
      "Larva family\n"
     ]
    }
   ],
   "source": [
    "i = 0 \n",
    "while i <5 :\n",
    "    i +=1\n",
    "    print(\"Larva family\")"
   ]
  },
  {
   "cell_type": "code",
   "execution_count": 2,
   "id": "a4158e00",
   "metadata": {},
   "outputs": [
    {
     "name": "stdout",
     "output_type": "stream",
     "text": [
      "enter positive integer to sum :12\n",
      "The sum from 1 to 12 is 78\n"
     ]
    }
   ],
   "source": [
    "m = -1\n",
    "while m <= 0 :\n",
    "    m = int(input('enter positive integer to sum :'))\n",
    "s = 0\n",
    "for i in range(1, m + 1):\n",
    "    s += i\n",
    "print('The sum from 1 to {} is {}'.format(m, s))"
   ]
  },
  {
   "cell_type": "code",
   "execution_count": 3,
   "id": "64d50542",
   "metadata": {},
   "outputs": [
    {
     "name": "stdout",
     "output_type": "stream",
     "text": [
      "choose between rock, paper, scissorspapa\n",
      "choose between rock, paper, scissorsrock\n",
      "choose between rock, paper, scissorspaper\n",
      "The selected value is : paper\n"
     ]
    }
   ],
   "source": [
    "selected = None\n",
    "while selected not in ['Rock', 'paper', 'scissors>'] :\n",
    "    selected = input('choose between rock, paper, scissors')\n",
    "print('The selected value is :', selected)"
   ]
  },
  {
   "cell_type": "code",
   "execution_count": null,
   "id": "2163e4dd",
   "metadata": {},
   "outputs": [],
   "source": []
  }
 ],
 "metadata": {
  "kernelspec": {
   "display_name": "Python 3 (ipykernel)",
   "language": "python",
   "name": "python3"
  },
  "language_info": {
   "codemirror_mode": {
    "name": "ipython",
    "version": 3
   },
   "file_extension": ".py",
   "mimetype": "text/x-python",
   "name": "python",
   "nbconvert_exporter": "python",
   "pygments_lexer": "ipython3",
   "version": "3.8.17"
  }
 },
 "nbformat": 4,
 "nbformat_minor": 5
}
